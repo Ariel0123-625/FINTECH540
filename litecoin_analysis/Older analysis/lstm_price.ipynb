{
 "cells": [
  {
   "cell_type": "code",
   "execution_count": 1,
   "id": "6a332369-79a8-456f-a179-58aea2614275",
   "metadata": {},
   "outputs": [],
   "source": [
    "import random\n",
    "import numpy as np\n",
    "import pandas as pd\n",
    "import matplotlib.pyplot as plt\n",
    "import tensorflow as tf\n",
    "from sklearn.metrics import mean_squared_error\n",
    "from sklearn.metrics import mean_absolute_error\n",
    "from sklearn.preprocessing import StandardScaler, MinMaxScaler\n",
    "from sklearn.model_selection import train_test_split\n",
    "from keras.models import Sequential\n",
    "from keras.layers import Dense, LSTM, Dropout, GRU\n",
    "\n",
    "\n",
    "random.seed(42)"
   ]
  },
  {
   "cell_type": "code",
   "execution_count": 2,
   "id": "a8653b98-2889-4a5f-909f-2fa5d9741222",
   "metadata": {},
   "outputs": [
    {
     "data": {
      "text/html": [
       "<div>\n",
       "<style scoped>\n",
       "    .dataframe tbody tr th:only-of-type {\n",
       "        vertical-align: middle;\n",
       "    }\n",
       "\n",
       "    .dataframe tbody tr th {\n",
       "        vertical-align: top;\n",
       "    }\n",
       "\n",
       "    .dataframe thead th {\n",
       "        text-align: right;\n",
       "    }\n",
       "</style>\n",
       "<table border=\"1\" class=\"dataframe\">\n",
       "  <thead>\n",
       "    <tr style=\"text-align: right;\">\n",
       "      <th></th>\n",
       "      <th>symbol_id</th>\n",
       "      <th>time_close</th>\n",
       "      <th>close</th>\n",
       "      <th>volume</th>\n",
       "      <th>marketcap</th>\n",
       "      <th>month</th>\n",
       "      <th>day</th>\n",
       "      <th>weekday</th>\n",
       "      <th>day of week</th>\n",
       "      <th>price change</th>\n",
       "      <th>...</th>\n",
       "      <th>10Y Treasury</th>\n",
       "      <th>Gold</th>\n",
       "      <th>Oil</th>\n",
       "      <th>EUR_USD</th>\n",
       "      <th>DOGE_74 change</th>\n",
       "      <th>ETH_1027 change</th>\n",
       "      <th>XRP_52 change</th>\n",
       "      <th>XLM_512 change</th>\n",
       "      <th>BTC_1 change</th>\n",
       "      <th>XMR_328 change</th>\n",
       "    </tr>\n",
       "  </thead>\n",
       "  <tbody>\n",
       "    <tr>\n",
       "      <th>0</th>\n",
       "      <td>LTC_2</td>\n",
       "      <td>2020-09-24</td>\n",
       "      <td>43.575650</td>\n",
       "      <td>1.723047e+09</td>\n",
       "      <td>2.855191e+09</td>\n",
       "      <td>9</td>\n",
       "      <td>24</td>\n",
       "      <td>3</td>\n",
       "      <td>1</td>\n",
       "      <td>-0.021570</td>\n",
       "      <td>...</td>\n",
       "      <td>0.666</td>\n",
       "      <td>1868.300049</td>\n",
       "      <td>40.310001</td>\n",
       "      <td>1.165854</td>\n",
       "      <td>-0.025248</td>\n",
       "      <td>-0.059389</td>\n",
       "      <td>-0.045198</td>\n",
       "      <td>-0.041776</td>\n",
       "      <td>-0.021312</td>\n",
       "      <td>-0.051886</td>\n",
       "    </tr>\n",
       "    <tr>\n",
       "      <th>1</th>\n",
       "      <td>LTC_2</td>\n",
       "      <td>2020-09-25</td>\n",
       "      <td>44.790372</td>\n",
       "      <td>2.027335e+09</td>\n",
       "      <td>2.935124e+09</td>\n",
       "      <td>9</td>\n",
       "      <td>25</td>\n",
       "      <td>4</td>\n",
       "      <td>1</td>\n",
       "      <td>0.027876</td>\n",
       "      <td>...</td>\n",
       "      <td>0.659</td>\n",
       "      <td>1857.699951</td>\n",
       "      <td>40.250000</td>\n",
       "      <td>1.167324</td>\n",
       "      <td>0.021075</td>\n",
       "      <td>0.078154</td>\n",
       "      <td>0.040102</td>\n",
       "      <td>0.023188</td>\n",
       "      <td>0.046477</td>\n",
       "      <td>0.037234</td>\n",
       "    </tr>\n",
       "    <tr>\n",
       "      <th>2</th>\n",
       "      <td>LTC_2</td>\n",
       "      <td>2020-09-26</td>\n",
       "      <td>46.090238</td>\n",
       "      <td>1.852828e+09</td>\n",
       "      <td>3.020641e+09</td>\n",
       "      <td>9</td>\n",
       "      <td>26</td>\n",
       "      <td>5</td>\n",
       "      <td>0</td>\n",
       "      <td>0.029021</td>\n",
       "      <td>...</td>\n",
       "      <td>0.659</td>\n",
       "      <td>1857.699951</td>\n",
       "      <td>40.250000</td>\n",
       "      <td>1.167324</td>\n",
       "      <td>0.027243</td>\n",
       "      <td>0.010122</td>\n",
       "      <td>0.049036</td>\n",
       "      <td>0.066801</td>\n",
       "      <td>-0.009782</td>\n",
       "      <td>0.014505</td>\n",
       "    </tr>\n",
       "    <tr>\n",
       "      <th>3</th>\n",
       "      <td>LTC_2</td>\n",
       "      <td>2020-09-27</td>\n",
       "      <td>46.340146</td>\n",
       "      <td>2.191838e+09</td>\n",
       "      <td>3.037367e+09</td>\n",
       "      <td>9</td>\n",
       "      <td>27</td>\n",
       "      <td>6</td>\n",
       "      <td>0</td>\n",
       "      <td>0.005422</td>\n",
       "      <td>...</td>\n",
       "      <td>0.659</td>\n",
       "      <td>1857.699951</td>\n",
       "      <td>40.250000</td>\n",
       "      <td>1.167324</td>\n",
       "      <td>0.007860</td>\n",
       "      <td>0.021704</td>\n",
       "      <td>-0.000456</td>\n",
       "      <td>-0.010805</td>\n",
       "      <td>0.009511</td>\n",
       "      <td>0.021696</td>\n",
       "    </tr>\n",
       "    <tr>\n",
       "      <th>4</th>\n",
       "      <td>LTC_2</td>\n",
       "      <td>2020-09-28</td>\n",
       "      <td>46.434781</td>\n",
       "      <td>2.217909e+09</td>\n",
       "      <td>3.043916e+09</td>\n",
       "      <td>9</td>\n",
       "      <td>28</td>\n",
       "      <td>0</td>\n",
       "      <td>1</td>\n",
       "      <td>0.002042</td>\n",
       "      <td>...</td>\n",
       "      <td>0.663</td>\n",
       "      <td>1872.800049</td>\n",
       "      <td>40.599998</td>\n",
       "      <td>1.163535</td>\n",
       "      <td>0.005012</td>\n",
       "      <td>-0.002503</td>\n",
       "      <td>0.005170</td>\n",
       "      <td>-0.000851</td>\n",
       "      <td>0.010435</td>\n",
       "      <td>0.028372</td>\n",
       "    </tr>\n",
       "  </tbody>\n",
       "</table>\n",
       "<p>5 rows × 24 columns</p>\n",
       "</div>"
      ],
      "text/plain": [
       "  symbol_id time_close      close        volume     marketcap  month  day  \\\n",
       "0     LTC_2 2020-09-24  43.575650  1.723047e+09  2.855191e+09      9   24   \n",
       "1     LTC_2 2020-09-25  44.790372  2.027335e+09  2.935124e+09      9   25   \n",
       "2     LTC_2 2020-09-26  46.090238  1.852828e+09  3.020641e+09      9   26   \n",
       "3     LTC_2 2020-09-27  46.340146  2.191838e+09  3.037367e+09      9   27   \n",
       "4     LTC_2 2020-09-28  46.434781  2.217909e+09  3.043916e+09      9   28   \n",
       "\n",
       "   weekday  day of week  price change  ...  10Y Treasury         Gold  \\\n",
       "0        3            1     -0.021570  ...         0.666  1868.300049   \n",
       "1        4            1      0.027876  ...         0.659  1857.699951   \n",
       "2        5            0      0.029021  ...         0.659  1857.699951   \n",
       "3        6            0      0.005422  ...         0.659  1857.699951   \n",
       "4        0            1      0.002042  ...         0.663  1872.800049   \n",
       "\n",
       "         Oil   EUR_USD  DOGE_74 change  ETH_1027 change  XRP_52 change  \\\n",
       "0  40.310001  1.165854       -0.025248        -0.059389      -0.045198   \n",
       "1  40.250000  1.167324        0.021075         0.078154       0.040102   \n",
       "2  40.250000  1.167324        0.027243         0.010122       0.049036   \n",
       "3  40.250000  1.167324        0.007860         0.021704      -0.000456   \n",
       "4  40.599998  1.163535        0.005012        -0.002503       0.005170   \n",
       "\n",
       "   XLM_512 change  BTC_1 change  XMR_328 change  \n",
       "0       -0.041776     -0.021312       -0.051886  \n",
       "1        0.023188      0.046477        0.037234  \n",
       "2        0.066801     -0.009782        0.014505  \n",
       "3       -0.010805      0.009511        0.021696  \n",
       "4       -0.000851      0.010435        0.028372  \n",
       "\n",
       "[5 rows x 24 columns]"
      ]
     },
     "execution_count": 2,
     "metadata": {},
     "output_type": "execute_result"
    }
   ],
   "source": [
    "df_all = pd.read_csv('~/work/project/clean_df.csv')\n",
    "df_all['time_close'] = pd.to_datetime(df_all['time_close'])\n",
    "df = df_all.loc[df_all['symbol_id'] == 'LTC_2'].copy().reset_index(drop=True)\n",
    "symbols = ['DOGE_74', 'ETH_1027', 'XRP_52', 'XLM_512', 'BTC_1', 'XMR_328']\n",
    "for sym in symbols:\n",
    "    df[(sym + ' change')] = df_all.loc[df_all['symbol_id'] ==  sym]['price change'].values\n",
    "# df.drop(columns=['symbol_id', 'tomorrow change', 'month', 'day', 'weekday', 'day of week', 'Oil'], inplace=True)\n",
    "# df['target'] = df['close'].shift()\n",
    "df.head()"
   ]
  },
  {
   "cell_type": "code",
   "execution_count": 3,
   "id": "8369e74e-04c1-432b-bd2c-a64860cde68d",
   "metadata": {},
   "outputs": [],
   "source": [
    "# df['SMA_5'] = df['close'].rolling(5).mean().shift()"
   ]
  },
  {
   "cell_type": "code",
   "execution_count": 4,
   "id": "1a249eab-53d8-478e-bd09-fc596b2d3fea",
   "metadata": {},
   "outputs": [],
   "source": [
    "# def relative_strength_idx(df, n=14):\n",
    "#     close = df['close']\n",
    "#     delta = close.diff()\n",
    "#     delta = delta[1:]\n",
    "#     pricesUp = delta.copy()\n",
    "#     pricesDown = delta.copy()\n",
    "#     pricesUp[pricesUp < 0] = 0\n",
    "#     pricesDown[pricesDown > 0] = 0\n",
    "#     rollUp = pricesUp.rolling(n).mean()\n",
    "#     rollDown = pricesDown.abs().rolling(n).mean()\n",
    "#     rs = rollUp / rollDown\n",
    "#     rsi = 100.0 - (100.0 / (1.0 + rs))\n",
    "#     return rsi\n",
    "# df['RSI'] = relative_strength_idx(df).fillna(0)"
   ]
  },
  {
   "cell_type": "code",
   "execution_count": 5,
   "id": "6da23aaf-40c7-482d-aa5c-6a10c74dc18a",
   "metadata": {},
   "outputs": [],
   "source": [
    "# EMA_12 = pd.Series(df['close'].ewm(span=12, min_periods=12).mean())\n",
    "# EMA_26 = pd.Series(df['close'].ewm(span=26, min_periods=26).mean())\n",
    "# df['MACD'] = pd.Series(EMA_12 - EMA_26)"
   ]
  },
  {
   "cell_type": "code",
   "execution_count": 6,
   "id": "655e0462-2960-4027-a91a-eca1b373ad3a",
   "metadata": {},
   "outputs": [],
   "source": [
    "# df.dropna(inplace=True)\n",
    "# df.reset_index(inplace=True, drop=True)\n",
    "# df.head()"
   ]
  },
  {
   "cell_type": "code",
   "execution_count": 7,
   "id": "f34912fe-217c-4ffb-bf3c-1454d67be621",
   "metadata": {},
   "outputs": [],
   "source": [
    "data_set = df[['close', 'time_close']]"
   ]
  },
  {
   "cell_type": "code",
   "execution_count": 8,
   "id": "fa65343f-5421-4882-bf9b-efc651d5de65",
   "metadata": {},
   "outputs": [],
   "source": [
    "train = data_set.loc[data_set['time_close'] < '2022-01-03'].copy()\n",
    "test = data_set.loc[data_set['time_close'] >= '2022-01-03'].copy()"
   ]
  },
  {
   "cell_type": "code",
   "execution_count": 9,
   "id": "39cef0a7-38b4-4b50-a2e8-d57d51d63382",
   "metadata": {},
   "outputs": [],
   "source": [
    "train_dates = train['time_close'].values\n",
    "test_dates = test['time_close'].values"
   ]
  },
  {
   "cell_type": "code",
   "execution_count": 10,
   "id": "b783e3da-99bc-4d3b-ba76-bf82576aa75a",
   "metadata": {},
   "outputs": [],
   "source": [
    "train.drop(columns='time_close', inplace = True)\n",
    "test.drop(columns='time_close', inplace = True)"
   ]
  },
  {
   "cell_type": "code",
   "execution_count": 11,
   "id": "ca0b1b9a-6137-4c87-b0a9-1caf58f8d723",
   "metadata": {},
   "outputs": [],
   "source": [
    "sc = MinMaxScaler(feature_range=(0,1))\n",
    "train = sc.fit_transform(train)\n",
    "test = sc.transform(test)"
   ]
  },
  {
   "cell_type": "code",
   "execution_count": 12,
   "id": "e7033ce2-13e7-4c55-959f-76ddde4179f6",
   "metadata": {},
   "outputs": [],
   "source": [
    "def make_set(data, n):\n",
    "    x_train = []\n",
    "    y_train = []\n",
    "    for i in range(n,len(data)):\n",
    "        x_train.append(data[i-n:i,0])\n",
    "        y_train.append(data[i,0])\n",
    "    x_train, y_train = np.array(x_train), np.array(y_train)\n",
    "    x_train = np.reshape(x_train, (x_train.shape[0],x_train.shape[1],1))\n",
    "    return x_train, y_train\n",
    "n = 60\n",
    "x_train, y_train = make_set(train, n)\n",
    "x_test, y_test = make_set(test, n)"
   ]
  },
  {
   "cell_type": "code",
   "execution_count": 13,
   "id": "616da83d-f044-49b1-b38d-e552363437db",
   "metadata": {},
   "outputs": [
    {
     "name": "stderr",
     "output_type": "stream",
     "text": [
      "[ERROR] 2022-11-09T06:05:38.305504Z, 113484, 113484, \"Error performing handshake with server 10.183.0.174:55001\"\n",
      "[ERROR] 2022-11-09T06:05:38.305529Z, 113484, 113484, \"Unable to connect to server. Initial handshake failed.\"\n",
      "[ERROR] 2022-11-09T06:05:38.305541Z, 113484, 113484, \"Error establishing connection in generated_cuInitialize: Connection refused\"\n",
      "[ERROR] 2022-11-09T06:05:38.305551Z, 113484, 113484, \"Communication error(s), check network connectivity\"\n",
      "2022-11-09 06:05:38.305631: E tensorflow/stream_executor/cuda/cuda_driver.cc:271] failed call to cuInit: UNKNOWN ERROR (101)\n",
      "2022-11-09 06:05:38.305706: I tensorflow/stream_executor/cuda/cuda_diagnostics.cc:156] kernel driver does not appear to be running on this host (ft-40023-40): /proc/driver/nvidia/version does not exist\n",
      "2022-11-09 06:05:38.306216: I tensorflow/core/platform/cpu_feature_guard.cc:142] This TensorFlow binary is optimized with oneAPI Deep Neural Network Library (oneDNN) to use the following CPU instructions in performance-critical operations:  SSE4.1 SSE4.2 AVX AVX2 FMA\n",
      "To enable them in other operations, rebuild TensorFlow with the appropriate compiler flags.\n"
     ]
    }
   ],
   "source": [
    "regressor = Sequential()\n",
    "regressor.add(LSTM(units=128, return_sequences=True, input_shape=(x_train.shape[1],1)))\n",
    "regressor.add(Dropout(0.2))\n",
    "regressor.add(LSTM(units=64, return_sequences=True))\n",
    "regressor.add(Dropout(0.2))\n",
    "regressor.add(LSTM(units=32, return_sequences=False))\n",
    "regressor.add(Dropout(0.2))\n",
    "regressor.add(Dense(units=1))"
   ]
  },
  {
   "cell_type": "code",
   "execution_count": 14,
   "id": "7f05fbcc-0ab4-4f89-9e4d-756e1a97329f",
   "metadata": {},
   "outputs": [],
   "source": [
    "# regressor = Sequential()\n",
    "# regressor.add(GRU(units=128, return_sequences=True, input_shape=(x_train.shape[1],1), activation='relu'))\n",
    "# regressor.add(Dropout(0.2))\n",
    "# regressor.add(GRU(units=64, return_sequences=True, input_shape=(x_train.shape[1],1), activation='relu'))\n",
    "# regressor.add(Dropout(0.2))\n",
    "# regressor.add(GRU(units=32, return_sequences=False, input_shape=(x_train.shape[1],1), activation='relu'))\n",
    "# regressor.add(Dropout(0.2))\n",
    "# regressor.add(Dense(units=1))"
   ]
  },
  {
   "cell_type": "code",
   "execution_count": 15,
   "id": "0a31ffc3-09d3-4f50-af94-ac3e623f72cb",
   "metadata": {},
   "outputs": [
    {
     "name": "stderr",
     "output_type": "stream",
     "text": [
      "2022-11-09 06:05:39.991685: I tensorflow/compiler/mlir/mlir_graph_optimization_pass.cc:185] None of the MLIR Optimization Passes are enabled (registered 2)\n"
     ]
    },
    {
     "name": "stdout",
     "output_type": "stream",
     "text": [
      "Epoch 1/25\n",
      "26/26 [==============================] - 14s 315ms/step - loss: 0.0313\n",
      "Epoch 2/25\n",
      "26/26 [==============================] - 11s 440ms/step - loss: 0.0124\n",
      "Epoch 3/25\n",
      "26/26 [==============================] - 9s 367ms/step - loss: 0.0098\n",
      "Epoch 4/25\n",
      "26/26 [==============================] - 9s 341ms/step - loss: 0.0107\n",
      "Epoch 5/25\n",
      "26/26 [==============================] - 8s 311ms/step - loss: 0.0097\n",
      "Epoch 6/25\n",
      "26/26 [==============================] - 9s 358ms/step - loss: 0.0089\n",
      "Epoch 7/25\n",
      "26/26 [==============================] - 8s 326ms/step - loss: 0.0078\n",
      "Epoch 8/25\n",
      "26/26 [==============================] - 9s 340ms/step - loss: 0.0082\n",
      "Epoch 9/25\n",
      "26/26 [==============================] - 10s 392ms/step - loss: 0.0075\n",
      "Epoch 10/25\n",
      "26/26 [==============================] - 8s 321ms/step - loss: 0.0071\n",
      "Epoch 11/25\n",
      "26/26 [==============================] - 7s 257ms/step - loss: 0.0057\n",
      "Epoch 12/25\n",
      "26/26 [==============================] - 7s 265ms/step - loss: 0.0056\n",
      "Epoch 13/25\n",
      "26/26 [==============================] - 6s 251ms/step - loss: 0.0050\n",
      "Epoch 14/25\n",
      "26/26 [==============================] - 6s 248ms/step - loss: 0.0058\n",
      "Epoch 15/25\n",
      "26/26 [==============================] - 6s 221ms/step - loss: 0.0051\n",
      "Epoch 16/25\n",
      "26/26 [==============================] - 6s 246ms/step - loss: 0.0048\n",
      "Epoch 17/25\n",
      "26/26 [==============================] - 6s 247ms/step - loss: 0.0052\n",
      "Epoch 18/25\n",
      "26/26 [==============================] - 6s 239ms/step - loss: 0.0050\n",
      "Epoch 19/25\n",
      "26/26 [==============================] - 7s 253ms/step - loss: 0.0045\n",
      "Epoch 20/25\n",
      "26/26 [==============================] - 6s 238ms/step - loss: 0.0052\n",
      "Epoch 21/25\n",
      "26/26 [==============================] - 7s 267ms/step - loss: 0.0042\n",
      "Epoch 22/25\n",
      "26/26 [==============================] - 6s 242ms/step - loss: 0.0044\n",
      "Epoch 23/25\n",
      "26/26 [==============================] - 7s 253ms/step - loss: 0.0051\n",
      "Epoch 24/25\n",
      "26/26 [==============================] - 7s 252ms/step - loss: 0.0043\n"
     ]
    },
    {
     "data": {
      "text/plain": [
       "<keras.callbacks.History at 0x7fe235fb8670>"
      ]
     },
     "execution_count": 15,
     "metadata": {},
     "output_type": "execute_result"
    }
   ],
   "source": [
    "callback = tf.keras.callbacks.EarlyStopping(monitor='loss', patience=3)\n",
    "regressor.compile(optimizer='adam', loss='mean_squared_error')\n",
    "regressor.fit(x_train,y_train, epochs=25, batch_size=16, callbacks=[callback])"
   ]
  },
  {
   "cell_type": "code",
   "execution_count": 16,
   "id": "77ae6887-1b12-4d62-97c5-52e33ac2077d",
   "metadata": {},
   "outputs": [],
   "source": [
    "pred = regressor.predict(x_test)\n",
    "pred = sc.inverse_transform(pred)"
   ]
  },
  {
   "cell_type": "code",
   "execution_count": 17,
   "id": "37dd13db-f2b2-4866-9ee2-ac88a9746276",
   "metadata": {},
   "outputs": [
    {
     "data": {
      "text/plain": [
       "6756.757417813751"
      ]
     },
     "execution_count": 17,
     "metadata": {},
     "output_type": "execute_result"
    }
   ],
   "source": [
    "mean_squared_error(y_test, pred)"
   ]
  },
  {
   "cell_type": "code",
   "execution_count": 18,
   "id": "cc485c1a-48d9-4937-9caf-61833c93be08",
   "metadata": {},
   "outputs": [],
   "source": [
    "true_y_train = sc.inverse_transform(y_train.reshape(-1,1))\n",
    "true_y_test = sc.inverse_transform(y_test.reshape(-1,1))"
   ]
  },
  {
   "cell_type": "code",
   "execution_count": 19,
   "id": "d39186d4-287d-425e-95ff-03b55dafd619",
   "metadata": {},
   "outputs": [
    {
     "data": {
      "text/plain": [
       "32673.058819009213"
      ]
     },
     "execution_count": 19,
     "metadata": {},
     "output_type": "execute_result"
    }
   ],
   "source": [
    "train_pred = regressor.predict(x_train)\n",
    "train_pred = sc.inverse_transform(train_pred)\n",
    "mean_squared_error(y_train, train_pred)"
   ]
  },
  {
   "cell_type": "code",
   "execution_count": 20,
   "id": "0cfb3bbb-9ae7-4278-975f-9b0eb06c6a14",
   "metadata": {},
   "outputs": [
    {
     "data": {
      "text/plain": [
       "Text(0.5, 1.0, 'Training predicted price vs actual')"
      ]
     },
     "execution_count": 20,
     "metadata": {},
     "output_type": "execute_result"
    },
    {
     "data": {
      "image/png": "[encoded data removed]",
      "text/plain": [
       "<Figure size 864x720 with 3 Axes>"
      ]
     },
     "metadata": {
      "needs_background": "light"
     },
     "output_type": "display_data"
    }
   ],
   "source": [
    "fig, ax = plt.subplots(nrows=3, ncols=1,figsize = (12, 10))\n",
    "plt.subplots_adjust(hspace = 0.85)\n",
    "ax[0].plot(train_dates[n:], true_y_train, 'C0', label='Truth')\n",
    "ax[0].plot(test_dates[n:], true_y_test, 'C0')\n",
    "ax[0].plot(test_dates[n:], pred, 'C1', label='Prediction')\n",
    "ax[0].legend()\n",
    "ax[0].set_xlabel('Dates')\n",
    "ax[0].set_ylabel('Price')\n",
    "ax[0].set_title('Predicted price vs actual')\n",
    "\n",
    "ax[1].plot(test_dates[n:], true_y_test, 'C0', label='Truth')\n",
    "ax[1].plot(test_dates[n:], pred, 'C1', label='Prediction')\n",
    "ax[1].legend()\n",
    "ax[1].set_xlabel('Dates')\n",
    "ax[1].set_ylabel('Price')\n",
    "ax[1].set_title('Predicted price vs actual')\n",
    "\n",
    "ax[2].plot(train_dates[n:], true_y_train, 'C0', label='Truth')\n",
    "ax[2].plot(train_dates[n:], train_pred, 'C1', label='Prediction')\n",
    "ax[2].legend()\n",
    "ax[2].set_xlabel('Dates')\n",
    "ax[2].set_ylabel('Price')\n",
    "ax[2].set_title('Training predicted price vs actual')"
   ]
  },
  {
   "cell_type": "code",
   "execution_count": null,
   "id": "10c61266-1f06-4716-adfd-ea5e6eede99b",
   "metadata": {},
   "outputs": [],
   "source": []
  }
 ],
 "metadata": {
  "kernelspec": {
   "display_name": "Python 3 (ipykernel)",
   "language": "python",
   "name": "python3"
  },
  "language_info": {
   "codemirror_mode": {
    "name": "ipython",
    "version": 3
   },
   "file_extension": ".py",
   "mimetype": "text/x-python",
   "name": "python",
   "nbconvert_exporter": "python",
   "pygments_lexer": "ipython3",
   "version": "3.8.12"
  }
 },
 "nbformat": 4,
 "nbformat_minor": 5
}

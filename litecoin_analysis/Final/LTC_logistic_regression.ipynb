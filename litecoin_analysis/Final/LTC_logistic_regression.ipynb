{
  "cells": [
    {
      "cell_type": "code",
      "execution_count": null,
      "metadata": {
        "id": "edea0def-3884-4692-be39-637d69de865b"
      },
      "outputs": [],
      "source": [
        "import os\n",
        "import random\n",
        "import numpy as np\n",
        "import pandas as pd\n",
        "import xgboost as xgb\n",
        "import matplotlib.pyplot as plt\n",
        "import statsmodels.api as sm\n",
        "import lightgbm as lgb\n",
        "import seaborn as sns\n",
        "from sklearn import metrics\n",
        "from sklearn.linear_model import LogisticRegression\n",
        "from sklearn.preprocessing import StandardScaler\n",
        "from statsmodels.tsa.stattools import adfuller\n",
        "from sklearn.metrics import mean_squared_error\n",
        "from sklearn.metrics import mean_absolute_error\n",
        "from sklearn.model_selection import train_test_split, GridSearchCV\n",
        "from sklearn.model_selection import TimeSeriesSplit\n",
        "from sklearn.model_selection import cross_validate\n",
        "from sklearn.metrics import make_scorer\n",
        "\n",
        "\n",
        "random.seed(42)"
      ],
      "id": "edea0def-3884-4692-be39-637d69de865b"
    },
    {
      "cell_type": "code",
      "execution_count": null,
      "metadata": {
        "colab": {
          "base_uri": "https://localhost:8080/",
          "height": 325
        },
        "id": "b6a6df57-c58f-47fb-8a05-6ad9bf077be7",
        "outputId": "591f7ecb-2c10-4b23-f902-ab4349e7f98a"
      },
      "outputs": [
        {
          "output_type": "execute_result",
          "data": {
            "text/plain": [
              "  time_close    close  marketcap  month  day  weekday  day of week  \\\n",
              "1 2015-08-11  3.95867   0.005367      8   11        1            1   \n",
              "2 2015-08-12  4.13873   0.046198      8   12        2            1   \n",
              "3 2015-08-13  3.93594  -0.048358      8   13        3            1   \n",
              "4 2015-08-14  3.88978  -0.011056      8   14        4            1   \n",
              "5 2015-08-15  4.03585   0.038235      8   15        5            0   \n",
              "\n",
              "   price change       SPY    VIX  ...      Gold       Oil   EUR_USD   DOGE_74  \\\n",
              "1      0.004680 -0.009023  13.71  ...  0.003079 -0.041815  0.004737 -0.004904   \n",
              "2      0.045485  0.001198  13.61  ...  0.014084  0.005107  0.002275  0.022335   \n",
              "3     -0.048998 -0.001244  13.49  ... -0.006677 -0.024711  0.010770 -0.027089   \n",
              "4     -0.011728  0.003642  12.83  ... -0.002510  0.006394  0.000000 -0.018380   \n",
              "5      0.037552  0.000000  12.83  ...  0.000000  0.000000  0.000000  0.006813   \n",
              "\n",
              "   ETH_1027    XRP_52   XLM_512     BTC_1   XMR_328    target  \n",
              "1  0.049628 -0.006013  0.059908 -0.005849 -0.050167  0.045485  \n",
              "2  0.434049 -0.021986 -0.037425  0.018745 -0.063835 -0.048998  \n",
              "3  0.150800 -0.035912 -0.005804 -0.011792  0.013810 -0.011728  \n",
              "4  0.598189 -0.014253 -0.040830 -0.006690 -0.061253  0.037552  \n",
              "5 -0.171918  0.023481  0.012725  0.005850  0.054035 -0.024156  \n",
              "\n",
              "[5 rows x 21 columns]"
            ],
            "text/html": [
              "\n",
              "  <div id=\"df-c34c971f-31f4-4973-b0b8-bf43671c3100\">\n",
              "    <div class=\"colab-df-container\">\n",
              "      <div>\n",
              "<style scoped>\n",
              "    .dataframe tbody tr th:only-of-type {\n",
              "        vertical-align: middle;\n",
              "    }\n",
              "\n",
              "    .dataframe tbody tr th {\n",
              "        vertical-align: top;\n",
              "    }\n",
              "\n",
              "    .dataframe thead th {\n",
              "        text-align: right;\n",
              "    }\n",
              "</style>\n",
              "<table border=\"1\" class=\"dataframe\">\n",
              "  <thead>\n",
              "    <tr style=\"text-align: right;\">\n",
              "      <th></th>\n",
              "      <th>time_close</th>\n",
              "      <th>close</th>\n",
              "      <th>marketcap</th>\n",
              "      <th>month</th>\n",
              "      <th>day</th>\n",
              "      <th>weekday</th>\n",
              "      <th>day of week</th>\n",
              "      <th>price change</th>\n",
              "      <th>SPY</th>\n",
              "      <th>VIX</th>\n",
              "      <th>...</th>\n",
              "      <th>Gold</th>\n",
              "      <th>Oil</th>\n",
              "      <th>EUR_USD</th>\n",
              "      <th>DOGE_74</th>\n",
              "      <th>ETH_1027</th>\n",
              "      <th>XRP_52</th>\n",
              "      <th>XLM_512</th>\n",
              "      <th>BTC_1</th>\n",
              "      <th>XMR_328</th>\n",
              "      <th>target</th>\n",
              "    </tr>\n",
              "  </thead>\n",
              "  <tbody>\n",
              "    <tr>\n",
              "      <th>1</th>\n",
              "      <td>2015-08-11</td>\n",
              "      <td>3.95867</td>\n",
              "      <td>0.005367</td>\n",
              "      <td>8</td>\n",
              "      <td>11</td>\n",
              "      <td>1</td>\n",
              "      <td>1</td>\n",
              "      <td>0.004680</td>\n",
              "      <td>-0.009023</td>\n",
              "      <td>13.71</td>\n",
              "      <td>...</td>\n",
              "      <td>0.003079</td>\n",
              "      <td>-0.041815</td>\n",
              "      <td>0.004737</td>\n",
              "      <td>-0.004904</td>\n",
              "      <td>0.049628</td>\n",
              "      <td>-0.006013</td>\n",
              "      <td>0.059908</td>\n",
              "      <td>-0.005849</td>\n",
              "      <td>-0.050167</td>\n",
              "      <td>0.045485</td>\n",
              "    </tr>\n",
              "    <tr>\n",
              "      <th>2</th>\n",
              "      <td>2015-08-12</td>\n",
              "      <td>4.13873</td>\n",
              "      <td>0.046198</td>\n",
              "      <td>8</td>\n",
              "      <td>12</td>\n",
              "      <td>2</td>\n",
              "      <td>1</td>\n",
              "      <td>0.045485</td>\n",
              "      <td>0.001198</td>\n",
              "      <td>13.61</td>\n",
              "      <td>...</td>\n",
              "      <td>0.014084</td>\n",
              "      <td>0.005107</td>\n",
              "      <td>0.002275</td>\n",
              "      <td>0.022335</td>\n",
              "      <td>0.434049</td>\n",
              "      <td>-0.021986</td>\n",
              "      <td>-0.037425</td>\n",
              "      <td>0.018745</td>\n",
              "      <td>-0.063835</td>\n",
              "      <td>-0.048998</td>\n",
              "    </tr>\n",
              "    <tr>\n",
              "      <th>3</th>\n",
              "      <td>2015-08-13</td>\n",
              "      <td>3.93594</td>\n",
              "      <td>-0.048358</td>\n",
              "      <td>8</td>\n",
              "      <td>13</td>\n",
              "      <td>3</td>\n",
              "      <td>1</td>\n",
              "      <td>-0.048998</td>\n",
              "      <td>-0.001244</td>\n",
              "      <td>13.49</td>\n",
              "      <td>...</td>\n",
              "      <td>-0.006677</td>\n",
              "      <td>-0.024711</td>\n",
              "      <td>0.010770</td>\n",
              "      <td>-0.027089</td>\n",
              "      <td>0.150800</td>\n",
              "      <td>-0.035912</td>\n",
              "      <td>-0.005804</td>\n",
              "      <td>-0.011792</td>\n",
              "      <td>0.013810</td>\n",
              "      <td>-0.011728</td>\n",
              "    </tr>\n",
              "    <tr>\n",
              "      <th>4</th>\n",
              "      <td>2015-08-14</td>\n",
              "      <td>3.88978</td>\n",
              "      <td>-0.011056</td>\n",
              "      <td>8</td>\n",
              "      <td>14</td>\n",
              "      <td>4</td>\n",
              "      <td>1</td>\n",
              "      <td>-0.011728</td>\n",
              "      <td>0.003642</td>\n",
              "      <td>12.83</td>\n",
              "      <td>...</td>\n",
              "      <td>-0.002510</td>\n",
              "      <td>0.006394</td>\n",
              "      <td>0.000000</td>\n",
              "      <td>-0.018380</td>\n",
              "      <td>0.598189</td>\n",
              "      <td>-0.014253</td>\n",
              "      <td>-0.040830</td>\n",
              "      <td>-0.006690</td>\n",
              "      <td>-0.061253</td>\n",
              "      <td>0.037552</td>\n",
              "    </tr>\n",
              "    <tr>\n",
              "      <th>5</th>\n",
              "      <td>2015-08-15</td>\n",
              "      <td>4.03585</td>\n",
              "      <td>0.038235</td>\n",
              "      <td>8</td>\n",
              "      <td>15</td>\n",
              "      <td>5</td>\n",
              "      <td>0</td>\n",
              "      <td>0.037552</td>\n",
              "      <td>0.000000</td>\n",
              "      <td>12.83</td>\n",
              "      <td>...</td>\n",
              "      <td>0.000000</td>\n",
              "      <td>0.000000</td>\n",
              "      <td>0.000000</td>\n",
              "      <td>0.006813</td>\n",
              "      <td>-0.171918</td>\n",
              "      <td>0.023481</td>\n",
              "      <td>0.012725</td>\n",
              "      <td>0.005850</td>\n",
              "      <td>0.054035</td>\n",
              "      <td>-0.024156</td>\n",
              "    </tr>\n",
              "  </tbody>\n",
              "</table>\n",
              "<p>5 rows × 21 columns</p>\n",
              "</div>\n",
              "      <button class=\"colab-df-convert\" onclick=\"convertToInteractive('df-c34c971f-31f4-4973-b0b8-bf43671c3100')\"\n",
              "              title=\"Convert this dataframe to an interactive table.\"\n",
              "              style=\"display:none;\">\n",
              "        \n",
              "  <svg xmlns=\"http://www.w3.org/2000/svg\" height=\"24px\"viewBox=\"0 0 24 24\"\n",
              "       width=\"24px\">\n",
              "    <path d=\"M0 0h24v24H0V0z\" fill=\"none\"/>\n",
              "    <path d=\"M18.56 5.44l.94 2.06.94-2.06 2.06-.94-2.06-.94-.94-2.06-.94 2.06-2.06.94zm-11 1L8.5 8.5l.94-2.06 2.06-.94-2.06-.94L8.5 2.5l-.94 2.06-2.06.94zm10 10l.94 2.06.94-2.06 2.06-.94-2.06-.94-.94-2.06-.94 2.06-2.06.94z\"/><path d=\"M17.41 7.96l-1.37-1.37c-.4-.4-.92-.59-1.43-.59-.52 0-1.04.2-1.43.59L10.3 9.45l-7.72 7.72c-.78.78-.78 2.05 0 2.83L4 21.41c.39.39.9.59 1.41.59.51 0 1.02-.2 1.41-.59l7.78-7.78 2.81-2.81c.8-.78.8-2.07 0-2.86zM5.41 20L4 18.59l7.72-7.72 1.47 1.35L5.41 20z\"/>\n",
              "  </svg>\n",
              "      </button>\n",
              "      \n",
              "  <style>\n",
              "    .colab-df-container {\n",
              "      display:flex;\n",
              "      flex-wrap:wrap;\n",
              "      gap: 12px;\n",
              "    }\n",
              "\n",
              "    .colab-df-convert {\n",
              "      background-color: #E8F0FE;\n",
              "      border: none;\n",
              "      border-radius: 50%;\n",
              "      cursor: pointer;\n",
              "      display: none;\n",
              "      fill: #1967D2;\n",
              "      height: 32px;\n",
              "      padding: 0 0 0 0;\n",
              "      width: 32px;\n",
              "    }\n",
              "\n",
              "    .colab-df-convert:hover {\n",
              "      background-color: #E2EBFA;\n",
              "      box-shadow: 0px 1px 2px rgba(60, 64, 67, 0.3), 0px 1px 3px 1px rgba(60, 64, 67, 0.15);\n",
              "      fill: #174EA6;\n",
              "    }\n",
              "\n",
              "    [theme=dark] .colab-df-convert {\n",
              "      background-color: #3B4455;\n",
              "      fill: #D2E3FC;\n",
              "    }\n",
              "\n",
              "    [theme=dark] .colab-df-convert:hover {\n",
              "      background-color: #434B5C;\n",
              "      box-shadow: 0px 1px 3px 1px rgba(0, 0, 0, 0.15);\n",
              "      filter: drop-shadow(0px 1px 2px rgba(0, 0, 0, 0.3));\n",
              "      fill: #FFFFFF;\n",
              "    }\n",
              "  </style>\n",
              "\n",
              "      <script>\n",
              "        const buttonEl =\n",
              "          document.querySelector('#df-c34c971f-31f4-4973-b0b8-bf43671c3100 button.colab-df-convert');\n",
              "        buttonEl.style.display =\n",
              "          google.colab.kernel.accessAllowed ? 'block' : 'none';\n",
              "\n",
              "        async function convertToInteractive(key) {\n",
              "          const element = document.querySelector('#df-c34c971f-31f4-4973-b0b8-bf43671c3100');\n",
              "          const dataTable =\n",
              "            await google.colab.kernel.invokeFunction('convertToInteractive',\n",
              "                                                     [key], {});\n",
              "          if (!dataTable) return;\n",
              "\n",
              "          const docLinkHtml = 'Like what you see? Visit the ' +\n",
              "            '<a target=\"_blank\" href=https://colab.research.google.com/notebooks/data_table.ipynb>data table notebook</a>'\n",
              "            + ' to learn more about interactive tables.';\n",
              "          element.innerHTML = '';\n",
              "          dataTable['output_type'] = 'display_data';\n",
              "          await google.colab.output.renderOutput(dataTable, element);\n",
              "          const docLink = document.createElement('div');\n",
              "          docLink.innerHTML = docLinkHtml;\n",
              "          element.appendChild(docLink);\n",
              "        }\n",
              "      </script>\n",
              "    </div>\n",
              "  </div>\n",
              "  "
            ]
          },
          "metadata": {},
          "execution_count": 6
        }
      ],
      "source": [
        "df_all = pd.read_csv('clean_df.csv')\n",
        "df_all['time_close'] = pd.to_datetime(df_all['time_close'])\n",
        "df = df_all.loc[df_all['symbol_id'] == 'LTC_2'].copy().reset_index(drop=True)\n",
        "symbols = ['DOGE_74', 'ETH_1027', 'XRP_52', 'XLM_512', 'BTC_1', 'XMR_328']\n",
        "for sym in symbols:\n",
        "    df[(sym)] = df_all.loc[df_all['symbol_id'] ==  sym]['price change'].values\n",
        "df.drop(columns=['symbol_id', 'tomorrow change'], inplace=True)\n",
        "cols = ['SPY', 'Oil', '10Y Treasury', 'Gold', 'EUR_USD', 'marketcap']\n",
        "for col in cols:\n",
        "    df[(col)] = df[col].pct_change()\n",
        "df['target'] = df['close'].shift(-1)\n",
        "df[\"target\"] = df[\"target\"].pct_change()\n",
        "df.dropna(inplace=True)\n",
        "df.head()"
      ],
      "id": "b6a6df57-c58f-47fb-8a05-6ad9bf077be7"
    },
    {
      "cell_type": "code",
      "execution_count": null,
      "metadata": {
        "colab": {
          "base_uri": "https://localhost:8080/"
        },
        "id": "4j7advT8yF8C",
        "outputId": "0547bce1-cc24-4dea-8882-25bb537e339e"
      },
      "outputs": [
        {
          "output_type": "stream",
          "name": "stdout",
          "text": [
            "ADF Statistic: -17.866\n",
            "p-value: 3.040E-30\n",
            "Reject H_0 at at 5% -> marketcap Time Series is Stationary\n",
            "ADF Statistic: -4.405\n",
            "p-value: 2.914E-04\n",
            "Reject H_0 at at 5% -> month Time Series is Stationary\n",
            "ADF Statistic: -18.808\n",
            "p-value: 2.023E-30\n",
            "Reject H_0 at at 5% -> day Time Series is Stationary\n",
            "ADF Statistic: -15.783\n",
            "p-value: 1.124E-28\n",
            "Reject H_0 at at 5% -> weekday Time Series is Stationary\n",
            "ADF Statistic: -21.546\n",
            "p-value: 0.000E+00\n",
            "Reject H_0 at at 5% -> day of week Time Series is Stationary\n",
            "ADF Statistic: -17.872\n",
            "p-value: 3.026E-30\n",
            "Reject H_0 at at 5% -> price change Time Series is Stationary\n",
            "ADF Statistic: -10.647\n",
            "p-value: 4.755E-19\n",
            "Reject H_0 at at 5% -> SPY Time Series is Stationary\n",
            "ADF Statistic: -4.396\n",
            "p-value: 3.018E-04\n",
            "Reject H_0 at at 5% -> VIX Time Series is Stationary\n",
            "ADF Statistic: -9.170\n",
            "p-value: 2.401E-15\n",
            "Reject H_0 at at 5% -> 10Y Treasury Time Series is Stationary\n",
            "ADF Statistic: -51.833\n",
            "p-value: 0.000E+00\n",
            "Reject H_0 at at 5% -> Gold Time Series is Stationary\n",
            "ADF Statistic: -13.553\n",
            "p-value: 2.394E-25\n",
            "Reject H_0 at at 5% -> Oil Time Series is Stationary\n",
            "ADF Statistic: -19.028\n",
            "p-value: 0.000E+00\n",
            "Reject H_0 at at 5% -> EUR_USD Time Series is Stationary\n",
            "ADF Statistic: -28.474\n",
            "p-value: 0.000E+00\n",
            "Reject H_0 at at 5% -> DOGE_74 Time Series is Stationary\n",
            "ADF Statistic: -8.803\n",
            "p-value: 2.084E-14\n",
            "Reject H_0 at at 5% -> ETH_1027 Time Series is Stationary\n",
            "ADF Statistic: -10.913\n",
            "p-value: 1.086E-19\n",
            "Reject H_0 at at 5% -> XRP_52 Time Series is Stationary\n",
            "ADF Statistic: -14.133\n",
            "p-value: 2.312E-26\n",
            "Reject H_0 at at 5% -> XLM_512 Time Series is Stationary\n",
            "ADF Statistic: -53.590\n",
            "p-value: 0.000E+00\n",
            "Reject H_0 at at 5% -> BTC_1 Time Series is Stationary\n",
            "ADF Statistic: -17.617\n",
            "p-value: 3.855E-30\n",
            "Reject H_0 at at 5% -> XMR_328 Time Series is Stationary\n",
            "ADF Statistic: -17.887\n",
            "p-value: 2.987E-30\n",
            "Reject H_0 at at 5% -> target Time Series is Stationary\n"
          ]
        }
      ],
      "source": [
        "for col in df.columns[2:]:\n",
        "  timeseries = df[col]\n",
        "  result = adfuller(timeseries)\n",
        "  print(f'ADF Statistic: {result[0]:.3f}')\n",
        "  print(f'p-value: {result[1]:.3E}')\n",
        "  if result[0] > result[4][\"5%\"]:\n",
        "      conclusion=f\"Failed to Reject H_0 at 5% -> {col} Time Series is Non-Stationary\"\n",
        "  else:\n",
        "      conclusion=f\"Reject H_0 at at 5% -> {col} Time Series is Stationary\"\n",
        "  print(conclusion)"
      ],
      "id": "4j7advT8yF8C"
    },
    {
      "cell_type": "code",
      "execution_count": null,
      "metadata": {
        "id": "5099789b-baa7-4466-a910-e04d4937b7cf"
      },
      "outputs": [],
      "source": [
        "def relative_strength_idx(df, n=14):\n",
        "    close = df['close']\n",
        "    delta = close.diff()\n",
        "    delta = delta[1:]\n",
        "    pricesUp = delta.copy()\n",
        "    pricesDown = delta.copy()\n",
        "    pricesUp[pricesUp < 0] = 0\n",
        "    pricesDown[pricesDown > 0] = 0\n",
        "    rollUp = pricesUp.rolling(n).mean()\n",
        "    rollDown = pricesDown.abs().rolling(n).mean()\n",
        "    rs = rollUp / rollDown\n",
        "    rsi = 100.0 - (100.0 / (1.0 + rs))\n",
        "    return rsi\n",
        "df['RSI'] = relative_strength_idx(df).fillna(0)"
      ],
      "id": "5099789b-baa7-4466-a910-e04d4937b7cf"
    },
    {
      "cell_type": "code",
      "execution_count": null,
      "metadata": {
        "id": "f4375306-cb81-41c9-a884-00f6e3814fc1"
      },
      "outputs": [],
      "source": [
        "EMA_12 = pd.Series(df['close'].ewm(span=12, min_periods=12).mean())\n",
        "EMA_26 = pd.Series(df['close'].ewm(span=26, min_periods=26).mean())\n",
        "df['MACD'] = pd.Series(EMA_12 - EMA_26)\n",
        "df['MACD_signal'] = pd.Series(df.MACD.ewm(span=9, min_periods=9).mean())"
      ],
      "id": "f4375306-cb81-41c9-a884-00f6e3814fc1"
    },
    {
      "cell_type": "code",
      "execution_count": null,
      "metadata": {
        "colab": {
          "base_uri": "https://localhost:8080/",
          "height": 325
        },
        "id": "4fab8bf6-f169-4d76-b257-a6ac132621eb",
        "outputId": "17271feb-c5f8-4edb-d014-1a073160e67c"
      },
      "outputs": [
        {
          "output_type": "execute_result",
          "data": {
            "text/plain": [
              "  time_close    close  marketcap  month  day  weekday  day of week  \\\n",
              "0 2015-09-13  2.83492  -0.042931      9   13        6            0   \n",
              "1 2015-09-14  2.82885  -0.001792      9   14        0            1   \n",
              "2 2015-09-15  2.84577   0.006355      9   15        1            1   \n",
              "3 2015-09-16  2.83072  -0.004935      9   16        2            1   \n",
              "4 2015-09-17  2.80428  -0.008993      9   17        3            1   \n",
              "\n",
              "   price change       SPY        VIX  ...   DOGE_74  ETH_1027    XRP_52  \\\n",
              "0     -0.043223  0.000000  23.200001  ... -0.026091  0.020416 -0.028014   \n",
              "1     -0.002141 -0.003710  24.250000  ... -0.012915 -0.071770  0.040454   \n",
              "2      0.005981  0.012499  22.540001  ...  0.001818 -0.056969 -0.133437   \n",
              "3     -0.005289  0.008667  21.350000  ... -0.007839  0.070366  0.045205   \n",
              "4     -0.009340 -0.002248  21.139999  ... -0.015193 -0.039755 -0.038219   \n",
              "\n",
              "    XLM_512     BTC_1   XMR_328    target        RSI      MACD  MACD_signal  \n",
              "0 -0.006689 -0.019671 -0.032950 -0.002141  48.272250 -0.086472    -0.106000  \n",
              "1 -0.018533 -0.017406 -0.037079  0.005981  49.858075 -0.087630    -0.101884  \n",
              "2 -0.003234 -0.000735  0.059949 -0.005289  49.405560 -0.086255    -0.098464  \n",
              "3  0.012599 -0.002375  0.032490 -0.009340  50.828950 -0.085323    -0.095642  \n",
              "4  0.003365 -0.006120  0.010640  0.053600  50.219171 -0.085618    -0.093521  \n",
              "\n",
              "[5 rows x 24 columns]"
            ],
            "text/html": [
              "\n",
              "  <div id=\"df-c481b125-93ad-413e-8667-c2e5cf422777\">\n",
              "    <div class=\"colab-df-container\">\n",
              "      <div>\n",
              "<style scoped>\n",
              "    .dataframe tbody tr th:only-of-type {\n",
              "        vertical-align: middle;\n",
              "    }\n",
              "\n",
              "    .dataframe tbody tr th {\n",
              "        vertical-align: top;\n",
              "    }\n",
              "\n",
              "    .dataframe thead th {\n",
              "        text-align: right;\n",
              "    }\n",
              "</style>\n",
              "<table border=\"1\" class=\"dataframe\">\n",
              "  <thead>\n",
              "    <tr style=\"text-align: right;\">\n",
              "      <th></th>\n",
              "      <th>time_close</th>\n",
              "      <th>close</th>\n",
              "      <th>marketcap</th>\n",
              "      <th>month</th>\n",
              "      <th>day</th>\n",
              "      <th>weekday</th>\n",
              "      <th>day of week</th>\n",
              "      <th>price change</th>\n",
              "      <th>SPY</th>\n",
              "      <th>VIX</th>\n",
              "      <th>...</th>\n",
              "      <th>DOGE_74</th>\n",
              "      <th>ETH_1027</th>\n",
              "      <th>XRP_52</th>\n",
              "      <th>XLM_512</th>\n",
              "      <th>BTC_1</th>\n",
              "      <th>XMR_328</th>\n",
              "      <th>target</th>\n",
              "      <th>RSI</th>\n",
              "      <th>MACD</th>\n",
              "      <th>MACD_signal</th>\n",
              "    </tr>\n",
              "  </thead>\n",
              "  <tbody>\n",
              "    <tr>\n",
              "      <th>0</th>\n",
              "      <td>2015-09-13</td>\n",
              "      <td>2.83492</td>\n",
              "      <td>-0.042931</td>\n",
              "      <td>9</td>\n",
              "      <td>13</td>\n",
              "      <td>6</td>\n",
              "      <td>0</td>\n",
              "      <td>-0.043223</td>\n",
              "      <td>0.000000</td>\n",
              "      <td>23.200001</td>\n",
              "      <td>...</td>\n",
              "      <td>-0.026091</td>\n",
              "      <td>0.020416</td>\n",
              "      <td>-0.028014</td>\n",
              "      <td>-0.006689</td>\n",
              "      <td>-0.019671</td>\n",
              "      <td>-0.032950</td>\n",
              "      <td>-0.002141</td>\n",
              "      <td>48.272250</td>\n",
              "      <td>-0.086472</td>\n",
              "      <td>-0.106000</td>\n",
              "    </tr>\n",
              "    <tr>\n",
              "      <th>1</th>\n",
              "      <td>2015-09-14</td>\n",
              "      <td>2.82885</td>\n",
              "      <td>-0.001792</td>\n",
              "      <td>9</td>\n",
              "      <td>14</td>\n",
              "      <td>0</td>\n",
              "      <td>1</td>\n",
              "      <td>-0.002141</td>\n",
              "      <td>-0.003710</td>\n",
              "      <td>24.250000</td>\n",
              "      <td>...</td>\n",
              "      <td>-0.012915</td>\n",
              "      <td>-0.071770</td>\n",
              "      <td>0.040454</td>\n",
              "      <td>-0.018533</td>\n",
              "      <td>-0.017406</td>\n",
              "      <td>-0.037079</td>\n",
              "      <td>0.005981</td>\n",
              "      <td>49.858075</td>\n",
              "      <td>-0.087630</td>\n",
              "      <td>-0.101884</td>\n",
              "    </tr>\n",
              "    <tr>\n",
              "      <th>2</th>\n",
              "      <td>2015-09-15</td>\n",
              "      <td>2.84577</td>\n",
              "      <td>0.006355</td>\n",
              "      <td>9</td>\n",
              "      <td>15</td>\n",
              "      <td>1</td>\n",
              "      <td>1</td>\n",
              "      <td>0.005981</td>\n",
              "      <td>0.012499</td>\n",
              "      <td>22.540001</td>\n",
              "      <td>...</td>\n",
              "      <td>0.001818</td>\n",
              "      <td>-0.056969</td>\n",
              "      <td>-0.133437</td>\n",
              "      <td>-0.003234</td>\n",
              "      <td>-0.000735</td>\n",
              "      <td>0.059949</td>\n",
              "      <td>-0.005289</td>\n",
              "      <td>49.405560</td>\n",
              "      <td>-0.086255</td>\n",
              "      <td>-0.098464</td>\n",
              "    </tr>\n",
              "    <tr>\n",
              "      <th>3</th>\n",
              "      <td>2015-09-16</td>\n",
              "      <td>2.83072</td>\n",
              "      <td>-0.004935</td>\n",
              "      <td>9</td>\n",
              "      <td>16</td>\n",
              "      <td>2</td>\n",
              "      <td>1</td>\n",
              "      <td>-0.005289</td>\n",
              "      <td>0.008667</td>\n",
              "      <td>21.350000</td>\n",
              "      <td>...</td>\n",
              "      <td>-0.007839</td>\n",
              "      <td>0.070366</td>\n",
              "      <td>0.045205</td>\n",
              "      <td>0.012599</td>\n",
              "      <td>-0.002375</td>\n",
              "      <td>0.032490</td>\n",
              "      <td>-0.009340</td>\n",
              "      <td>50.828950</td>\n",
              "      <td>-0.085323</td>\n",
              "      <td>-0.095642</td>\n",
              "    </tr>\n",
              "    <tr>\n",
              "      <th>4</th>\n",
              "      <td>2015-09-17</td>\n",
              "      <td>2.80428</td>\n",
              "      <td>-0.008993</td>\n",
              "      <td>9</td>\n",
              "      <td>17</td>\n",
              "      <td>3</td>\n",
              "      <td>1</td>\n",
              "      <td>-0.009340</td>\n",
              "      <td>-0.002248</td>\n",
              "      <td>21.139999</td>\n",
              "      <td>...</td>\n",
              "      <td>-0.015193</td>\n",
              "      <td>-0.039755</td>\n",
              "      <td>-0.038219</td>\n",
              "      <td>0.003365</td>\n",
              "      <td>-0.006120</td>\n",
              "      <td>0.010640</td>\n",
              "      <td>0.053600</td>\n",
              "      <td>50.219171</td>\n",
              "      <td>-0.085618</td>\n",
              "      <td>-0.093521</td>\n",
              "    </tr>\n",
              "  </tbody>\n",
              "</table>\n",
              "<p>5 rows × 24 columns</p>\n",
              "</div>\n",
              "      <button class=\"colab-df-convert\" onclick=\"convertToInteractive('df-c481b125-93ad-413e-8667-c2e5cf422777')\"\n",
              "              title=\"Convert this dataframe to an interactive table.\"\n",
              "              style=\"display:none;\">\n",
              "        \n",
              "  <svg xmlns=\"http://www.w3.org/2000/svg\" height=\"24px\"viewBox=\"0 0 24 24\"\n",
              "       width=\"24px\">\n",
              "    <path d=\"M0 0h24v24H0V0z\" fill=\"none\"/>\n",
              "    <path d=\"M18.56 5.44l.94 2.06.94-2.06 2.06-.94-2.06-.94-.94-2.06-.94 2.06-2.06.94zm-11 1L8.5 8.5l.94-2.06 2.06-.94-2.06-.94L8.5 2.5l-.94 2.06-2.06.94zm10 10l.94 2.06.94-2.06 2.06-.94-2.06-.94-.94-2.06-.94 2.06-2.06.94z\"/><path d=\"M17.41 7.96l-1.37-1.37c-.4-.4-.92-.59-1.43-.59-.52 0-1.04.2-1.43.59L10.3 9.45l-7.72 7.72c-.78.78-.78 2.05 0 2.83L4 21.41c.39.39.9.59 1.41.59.51 0 1.02-.2 1.41-.59l7.78-7.78 2.81-2.81c.8-.78.8-2.07 0-2.86zM5.41 20L4 18.59l7.72-7.72 1.47 1.35L5.41 20z\"/>\n",
              "  </svg>\n",
              "      </button>\n",
              "      \n",
              "  <style>\n",
              "    .colab-df-container {\n",
              "      display:flex;\n",
              "      flex-wrap:wrap;\n",
              "      gap: 12px;\n",
              "    }\n",
              "\n",
              "    .colab-df-convert {\n",
              "      background-color: #E8F0FE;\n",
              "      border: none;\n",
              "      border-radius: 50%;\n",
              "      cursor: pointer;\n",
              "      display: none;\n",
              "      fill: #1967D2;\n",
              "      height: 32px;\n",
              "      padding: 0 0 0 0;\n",
              "      width: 32px;\n",
              "    }\n",
              "\n",
              "    .colab-df-convert:hover {\n",
              "      background-color: #E2EBFA;\n",
              "      box-shadow: 0px 1px 2px rgba(60, 64, 67, 0.3), 0px 1px 3px 1px rgba(60, 64, 67, 0.15);\n",
              "      fill: #174EA6;\n",
              "    }\n",
              "\n",
              "    [theme=dark] .colab-df-convert {\n",
              "      background-color: #3B4455;\n",
              "      fill: #D2E3FC;\n",
              "    }\n",
              "\n",
              "    [theme=dark] .colab-df-convert:hover {\n",
              "      background-color: #434B5C;\n",
              "      box-shadow: 0px 1px 3px 1px rgba(0, 0, 0, 0.15);\n",
              "      filter: drop-shadow(0px 1px 2px rgba(0, 0, 0, 0.3));\n",
              "      fill: #FFFFFF;\n",
              "    }\n",
              "  </style>\n",
              "\n",
              "      <script>\n",
              "        const buttonEl =\n",
              "          document.querySelector('#df-c481b125-93ad-413e-8667-c2e5cf422777 button.colab-df-convert');\n",
              "        buttonEl.style.display =\n",
              "          google.colab.kernel.accessAllowed ? 'block' : 'none';\n",
              "\n",
              "        async function convertToInteractive(key) {\n",
              "          const element = document.querySelector('#df-c481b125-93ad-413e-8667-c2e5cf422777');\n",
              "          const dataTable =\n",
              "            await google.colab.kernel.invokeFunction('convertToInteractive',\n",
              "                                                     [key], {});\n",
              "          if (!dataTable) return;\n",
              "\n",
              "          const docLinkHtml = 'Like what you see? Visit the ' +\n",
              "            '<a target=\"_blank\" href=https://colab.research.google.com/notebooks/data_table.ipynb>data table notebook</a>'\n",
              "            + ' to learn more about interactive tables.';\n",
              "          element.innerHTML = '';\n",
              "          dataTable['output_type'] = 'display_data';\n",
              "          await google.colab.output.renderOutput(dataTable, element);\n",
              "          const docLink = document.createElement('div');\n",
              "          docLink.innerHTML = docLinkHtml;\n",
              "          element.appendChild(docLink);\n",
              "        }\n",
              "      </script>\n",
              "    </div>\n",
              "  </div>\n",
              "  "
            ]
          },
          "metadata": {},
          "execution_count": 10
        }
      ],
      "source": [
        "price = df[['close', 'time_close']]\n",
        "df.dropna(inplace=True)\n",
        "cut_df = df.loc[df['time_close'] >= '2020-09-25'].copy()\n",
        "df.reset_index(inplace=True, drop=True)\n",
        "df.head()"
      ],
      "id": "4fab8bf6-f169-4d76-b257-a6ac132621eb"
    },
    {
      "cell_type": "code",
      "execution_count": null,
      "metadata": {
        "id": "ff9cfd09-ed00-4abe-9860-07e59a795f22"
      },
      "outputs": [],
      "source": [
        "y = cut_df[['target', 'time_close']]\n",
        "x = cut_df.copy()"
      ],
      "id": "ff9cfd09-ed00-4abe-9860-07e59a795f22"
    },
    {
      "cell_type": "code",
      "source": [
        "# x_train, x_test, y_train, y_test = train_test_split(x, y, test_size=0.2, shuffle = False)"
      ],
      "metadata": {
        "id": "Op1MasknhC0a"
      },
      "id": "Op1MasknhC0a",
      "execution_count": null,
      "outputs": []
    },
    {
      "cell_type": "code",
      "execution_count": null,
      "metadata": {
        "id": "30d1c4af-88ce-48f2-9c3e-f5464725f96c"
      },
      "outputs": [],
      "source": [
        "date = '2022-05-03'\n",
        "x_train = x.loc[x['time_close'] < date].copy()\n",
        "x_test = x.loc[x['time_close'] >= date].copy()\n",
        "y_train = y.loc[y['time_close'] < date].copy()\n",
        "y_test = y.loc[y['time_close'] >= date].copy()"
      ],
      "id": "30d1c4af-88ce-48f2-9c3e-f5464725f96c"
    },
    {
      "cell_type": "code",
      "source": [
        "date = x_test['time_close'][x_test.index[0]]\n",
        "test_price = x_test.loc[x_test['time_close'] >= date]['close'].copy()"
      ],
      "metadata": {
        "id": "1kDMPDB7hHBK"
      },
      "id": "1kDMPDB7hHBK",
      "execution_count": null,
      "outputs": []
    },
    {
      "cell_type": "code",
      "execution_count": null,
      "metadata": {
        "colab": {
          "base_uri": "https://localhost:8080/",
          "height": 349
        },
        "id": "dca60b83-78e2-403c-9c67-b5caf5235f0a",
        "outputId": "2d55fbf6-a6bc-4282-bd19-dd9b5837c0e4"
      },
      "outputs": [
        {
          "output_type": "display_data",
          "data": {
            "text/plain": [
              "<Figure size 720x360 with 1 Axes>"
            ],
            "image/png": "[encoded data removed]"
          },
          "metadata": {
            "needs_background": "light"
          }
        }
      ],
      "source": [
        "fig, ax = plt.subplots(figsize = (10, 5))\n",
        "plt.plot(y_train.time_close, y_train.target, label='train')\n",
        "plt.plot(y_test.time_close, y_test.target, label='test')\n",
        "plt.ylabel('Price')\n",
        "plt.xlabel('Days')\n",
        "plt.title('Train, test, and valid closing price')\n",
        "plt.legend()\n",
        "plt.show()"
      ],
      "id": "dca60b83-78e2-403c-9c67-b5caf5235f0a"
    },
    {
      "cell_type": "code",
      "source": [
        "x_train.drop(columns=['time_close', 'close', 'target'], inplace = True)\n",
        "x_test.drop(columns=['time_close', 'close', 'target'], inplace = True)"
      ],
      "metadata": {
        "id": "1hznZ27qhMSb"
      },
      "id": "1hznZ27qhMSb",
      "execution_count": null,
      "outputs": []
    },
    {
      "cell_type": "code",
      "execution_count": null,
      "metadata": {
        "id": "9dHO0gUY9M7D"
      },
      "outputs": [],
      "source": [
        "# lower, upper = y_train.target.quantile([.25, .75])"
      ],
      "id": "9dHO0gUY9M7D"
    },
    {
      "cell_type": "code",
      "execution_count": null,
      "metadata": {
        "id": "1bfc3759-7e16-4931-ab5c-37bef6150f21"
      },
      "outputs": [],
      "source": [
        "train_dates = y_train['time_close'].values\n",
        "test_dates = y_test['time_close'].values\n",
        "\n",
        "y_train.drop(columns=['time_close'], inplace=True)\n",
        "y_test.drop(columns=['time_close'], inplace=True)"
      ],
      "id": "1bfc3759-7e16-4931-ab5c-37bef6150f21"
    },
    {
      "cell_type": "code",
      "execution_count": null,
      "metadata": {
        "id": "SI572HQ67AtB"
      },
      "outputs": [],
      "source": [
        "# y_test_c = np.where(y_test < lower, 0, np.where(y_test <= upper, 1, 2))\n",
        "# y_train_c = np.where(y_train < lower, 0, np.where(y_train <= upper, 1, 2))"
      ],
      "id": "SI572HQ67AtB"
    },
    {
      "cell_type": "code",
      "source": [
        "y_test_c = np.where(y_test < 0, 0, 1)\n",
        "y_train_c = np.where(y_train < 0, 0, 1)"
      ],
      "metadata": {
        "id": "nJNiprU9gbQK"
      },
      "id": "nJNiprU9gbQK",
      "execution_count": null,
      "outputs": []
    },
    {
      "cell_type": "code",
      "execution_count": null,
      "metadata": {
        "colab": {
          "base_uri": "https://localhost:8080/"
        },
        "id": "G_dULswl-ag1",
        "outputId": "ec2491ca-cd9e-449b-de30-3cba88e4f283"
      },
      "outputs": [
        {
          "output_type": "stream",
          "name": "stdout",
          "text": [
            "275\n",
            "309\n"
          ]
        }
      ],
      "source": [
        "print((y_train_c == 0).sum())\n",
        "print((y_train_c == 1).sum())"
      ],
      "id": "G_dULswl-ag1"
    },
    {
      "cell_type": "code",
      "execution_count": null,
      "metadata": {
        "colab": {
          "base_uri": "https://localhost:8080/"
        },
        "id": "EU6zvW_W_UiL",
        "outputId": "b0fd99fd-4211-4830-9612-b77eb9e0aa3f"
      },
      "outputs": [
        {
          "output_type": "stream",
          "name": "stdout",
          "text": [
            "75\n",
            "78\n"
          ]
        }
      ],
      "source": [
        "print((y_test_c == 0).sum())\n",
        "print((y_test_c == 1).sum())"
      ],
      "id": "EU6zvW_W_UiL"
    },
    {
      "cell_type": "code",
      "source": [
        "# x_train = x_train[['price change', 'VIX', 'SPY', 'ETH_1027', 'XRP_52', 'XLM_512', 'BTC_1', 'XMR_328']]\n",
        "# x_test = x_test[['price change', 'VIX', 'SPY', 'ETH_1027', 'XRP_52', 'XLM_512', 'BTC_1', 'XMR_328']]"
      ],
      "metadata": {
        "id": "ZFecG-CLk7zl"
      },
      "id": "ZFecG-CLk7zl",
      "execution_count": null,
      "outputs": []
    },
    {
      "cell_type": "code",
      "source": [
        "# for col in x_train.columns:\n",
        "#     x_train[(col)] = np.where(x_train[(col)] < 0, 0, 1)\n",
        "#     x_test[(col)] = np.where(x_test[(col)] < 0, 0, 1)"
      ],
      "metadata": {
        "id": "gXydEnMyk5iU"
      },
      "id": "gXydEnMyk5iU",
      "execution_count": null,
      "outputs": []
    },
    {
      "cell_type": "code",
      "source": [
        "scaler = StandardScaler()\n",
        "x_train = pd.DataFrame(scaler.fit_transform(x_train), columns = x_train.columns)\n",
        "x_test = pd.DataFrame(scaler.transform(x_test), columns = x_train.columns)"
      ],
      "metadata": {
        "id": "YZR92x5kgRuk"
      },
      "id": "YZR92x5kgRuk",
      "execution_count": null,
      "outputs": []
    },
    {
      "cell_type": "code",
      "execution_count": null,
      "metadata": {
        "id": "BbWPhDjWgkBz"
      },
      "outputs": [],
      "source": [
        "# param_grid = {'n_estimators':[5, 10, 25, 35, 45, 55, 75, 100]}\n",
        "# reg = lgb.LGBMClassifier()\n",
        "# grid = GridSearchCV(estimator = reg, param_grid = param_grid, scoring = 'f1_macro', cv = 5, verbose = 1, return_train_score= True)\n",
        "# grid.fit(x_train, y_train_c.ravel())"
      ],
      "id": "BbWPhDjWgkBz"
    },
    {
      "cell_type": "code",
      "execution_count": null,
      "metadata": {
        "id": "gcjmiw5lgjDF"
      },
      "outputs": [],
      "source": [
        "# fig, ax = plt.subplots(figsize = (10, 5))\n",
        "# plt.plot(param_grid['n_estimators'], grid.cv_results_['mean_test_score'], label='test')\n",
        "# plt.plot(param_grid['n_estimators'], grid.cv_results_['mean_train_score'], label='train')\n",
        "# plt.ylabel('F1 score')\n",
        "# plt.xlabel('n_estimators')\n",
        "# plt.title('F1 score vs n_estimators')\n",
        "# plt.legend()\n",
        "# plt.show()"
      ],
      "id": "gcjmiw5lgjDF"
    },
    {
      "cell_type": "code",
      "execution_count": null,
      "metadata": {
        "colab": {
          "base_uri": "https://localhost:8080/"
        },
        "id": "e3117b63-2853-4968-bb24-6089e2a36038",
        "outputId": "aa194c1f-4b3a-4836-e6c7-90350a7a82e6"
      },
      "outputs": [
        {
          "output_type": "execute_result",
          "data": {
            "text/plain": [
              "LogisticRegression()"
            ]
          },
          "metadata": {},
          "execution_count": 28
        }
      ],
      "source": [
        "best_reg = LogisticRegression()\n",
        "best_reg.fit(x_train, y_train_c.ravel())"
      ],
      "id": "e3117b63-2853-4968-bb24-6089e2a36038"
    },
    {
      "cell_type": "code",
      "execution_count": null,
      "metadata": {
        "id": "7afc4fe2-4b68-4040-a95a-ede489721770"
      },
      "outputs": [],
      "source": [
        "pred = best_reg.predict(x_test)\n",
        "pred_proba = best_reg.predict_proba(x_test)"
      ],
      "id": "7afc4fe2-4b68-4040-a95a-ede489721770"
    },
    {
      "cell_type": "code",
      "execution_count": null,
      "metadata": {
        "id": "IKgqyYtRV8gT"
      },
      "outputs": [],
      "source": [
        "def scores(y_true, y_pred, pred_proba):\n",
        "  acc = metrics.accuracy_score(y_true, y_pred)\n",
        "  prec = metrics.precision_score(y_true, y_pred)\n",
        "  sens = metrics.recall_score(y_true, y_pred, pos_label=0)\n",
        "  rec = metrics.recall_score(y_true, y_pred)\n",
        "  f1 = metrics.f1_score(y_true, y_pred)\n",
        "  roc_auc = metrics.roc_auc_score(np.squeeze((np.eye(4)[y_true]),1), pred_proba)\n",
        "\n",
        "  print('Accuracy is :',round(acc,3))\n",
        "  print('Precision is :',round(prec,3))\n",
        "  print('Sensitivity is :',round(sens,3))\n",
        "  print('Recall is :',round(rec,3))\n",
        "  print('F1 score is :',round(f1,3))\n",
        "  print('AUC is :',round(roc_auc,3))"
      ],
      "id": "IKgqyYtRV8gT"
    },
    {
      "cell_type": "code",
      "execution_count": null,
      "metadata": {
        "colab": {
          "base_uri": "https://localhost:8080/"
        },
        "id": "4v4x_myHWNZS",
        "outputId": "46d85f33-3551-4743-9cec-22ee4eba8a80"
      },
      "outputs": [
        {
          "output_type": "stream",
          "name": "stdout",
          "text": [
            "Accuracy is : 0.542\n",
            "Precision is : 0.553\n",
            "Sensitivity is : 0.547\n",
            "Recall is : 0.538\n",
            "F1 score is : 0.545\n",
            "AUC is : 0.6\n"
          ]
        }
      ],
      "source": [
        "scores(y_test_c, pred, pred_proba)"
      ],
      "id": "4v4x_myHWNZS"
    },
    {
      "cell_type": "code",
      "execution_count": null,
      "metadata": {
        "colab": {
          "base_uri": "https://localhost:8080/"
        },
        "id": "5xUE2ZM82om_",
        "outputId": "21ad5f93-7490-4b20-9e91-5eeeccc704d2"
      },
      "outputs": [
        {
          "output_type": "stream",
          "name": "stdout",
          "text": [
            "Train accuracy is : 0.6095890410958904\n",
            "Train precision is : 0.6115702479338843\n",
            "Train sensitivity is : 0.48727272727272725\n",
            "Train f1 score is : 0.6607142857142857\n"
          ]
        }
      ],
      "source": [
        "train_pred = best_reg.predict(x_train)\n",
        "print('Train accuracy is :', metrics.accuracy_score(y_train_c, train_pred))\n",
        "print('Train precision is :', metrics.precision_score(y_train_c, train_pred))\n",
        "print('Train sensitivity is :', metrics.recall_score(y_train_c, train_pred, pos_label=0))\n",
        "print('Train f1 score is :', metrics.f1_score(y_train_c, train_pred))"
      ],
      "id": "5xUE2ZM82om_"
    },
    {
      "cell_type": "code",
      "execution_count": null,
      "metadata": {
        "colab": {
          "base_uri": "https://localhost:8080/",
          "height": 336
        },
        "id": "7FI25N09V1uw",
        "outputId": "c8e76610-ee7a-4960-a8ff-f528da74d52e"
      },
      "outputs": [
        {
          "output_type": "display_data",
          "data": {
            "text/plain": [
              "<Figure size 432x288 with 1 Axes>"
            ],
            "image/png": "[encoded data removed]"
          },
          "metadata": {
            "needs_background": "light"
          }
        }
      ],
      "source": [
        "cf_matrix = metrics.confusion_matrix(y_test_c, pred)\n",
        "\n",
        "\n",
        "ax = sns.heatmap(cf_matrix, annot=True, cmap='Blues',cbar=False,fmt = 'g')\n",
        "\n",
        "ax.set_title('Return prediction for LR\\n\\n');\n",
        "ax.set_xlabel('\\nPredicted Values')\n",
        "ax.set_ylabel('Actual Values ');\n",
        "\n",
        "ax.xaxis.set_ticklabels(['Negative', 'Positive'])\n",
        "ax.yaxis.set_ticklabels(['Negative', 'Positive'])\n",
        "\n",
        "plt.show()"
      ],
      "id": "7FI25N09V1uw"
    },
    {
      "cell_type": "code",
      "execution_count": null,
      "metadata": {
        "id": "sAHtdtWef30a"
      },
      "outputs": [],
      "source": [
        "sns.reset_orig()"
      ],
      "id": "sAHtdtWef30a"
    },
    {
      "cell_type": "code",
      "execution_count": null,
      "metadata": {
        "id": "Ymk8RakxvZ-p"
      },
      "outputs": [],
      "source": [
        "guess_neg = np.nonzero(np.where(pred == 0, 1, 0))\n",
        "guess_pos = np.nonzero(np.where(pred == 1, 1, 0))\n",
        "y_test.reset_index(drop=True, inplace=True)\n",
        "negative = y_test.iloc[guess_neg]\n",
        "correct_neg = negative.loc[negative.target < 0]\n",
        "positive = y_test.iloc[guess_pos]\n",
        "correct_pos = positive.loc[positive.target > 0]"
      ],
      "id": "Ymk8RakxvZ-p"
    },
    {
      "cell_type": "code",
      "execution_count": null,
      "metadata": {
        "colab": {
          "base_uri": "https://localhost:8080/",
          "height": 349
        },
        "id": "26O0KL7YvWVV",
        "outputId": "faa922d1-f9e9-494c-fe13-e75fc0c627f5"
      },
      "outputs": [
        {
          "output_type": "display_data",
          "data": {
            "text/plain": [
              "<Figure size 720x360 with 1 Axes>"
            ],
            "image/png": "[encoded data removed]"
          },
          "metadata": {
            "needs_background": "light"
          }
        }
      ],
      "source": [
        "fig, ax = plt.subplots(figsize = (10, 5))\n",
        "plt.plot(test_dates, y_test.target, label='Test')\n",
        "plt.scatter(test_dates[correct_pos.index], y_test.iloc[correct_pos.index], c='g', marker = 'o', label='Correct large positive')\n",
        "plt.scatter(test_dates[correct_neg.index], y_test.iloc[correct_neg.index], c='r', marker = 'o',label='Correct large negative')\n",
        "ax.hlines(y=0, xmin=test_dates[1], xmax=test_dates[-1], color='k', linestyles='dashed')\n",
        "plt.ylabel('Returns')\n",
        "plt.xlabel('Days')\n",
        "plt.title('Test returns predictions')\n",
        "plt.legend()\n",
        "plt.show()"
      ],
      "id": "26O0KL7YvWVV"
    },
    {
      "cell_type": "code",
      "execution_count": null,
      "metadata": {
        "id": "9P2ZVXoX82Rb"
      },
      "outputs": [],
      "source": [
        "def apply_strategy(pred, test_price):\n",
        "  money = [0]\n",
        "  prices = []\n",
        "  shares = [1000 / float(test_price.values[0])]\n",
        "  for i in range(len(pred)):\n",
        "      current_signal = pred[i]\n",
        "      if i == 0:\n",
        "        previous_signal = 1\n",
        "      else:\n",
        "        previous_signal = pred[i-1]\n",
        "      if current_signal > 0:\n",
        "        if previous_signal < 1: # buy\n",
        "          shares.append(money[-1]/float(test_price.values[i]))\n",
        "          prices.append(shares[-1] * float(test_price.values[i]))\n",
        "          money.append(0)\n",
        "        else:\n",
        "          money.append(money[-1])\n",
        "          prices.append(shares[-1] * float(test_price.values[i]))\n",
        "          shares.append(shares[-1])\n",
        "      else:\n",
        "        if previous_signal > 0: #sell\n",
        "          money.append(shares[-1] * float(test_price.values[i]))\n",
        "          prices.append(shares[-1] * float(test_price.values[i]))\n",
        "          shares.append(0)\n",
        "        else:\n",
        "          money.append(money[-1])\n",
        "          prices.append(money[-1])\n",
        "          shares.append(shares[-1])\n",
        "  return prices"
      ],
      "id": "9P2ZVXoX82Rb"
    },
    {
      "cell_type": "code",
      "execution_count": null,
      "metadata": {
        "colab": {
          "base_uri": "https://localhost:8080/"
        },
        "id": "E6c65yLAQGUZ",
        "outputId": "4cfcff59-7f44-47cc-b4bd-f04de43250d1"
      },
      "outputs": [
        {
          "output_type": "stream",
          "name": "stdout",
          "text": [
            "$1000 investment using startegy:  1338.7541984977452\n"
          ]
        }
      ],
      "source": [
        "prices = apply_strategy(pred, test_price)\n",
        "print('$1000 investment using startegy: ', prices[-1])"
      ],
      "id": "E6c65yLAQGUZ"
    },
    {
      "cell_type": "code",
      "execution_count": null,
      "metadata": {
        "colab": {
          "base_uri": "https://localhost:8080/"
        },
        "id": "Fc3YeACe2pGO",
        "outputId": "403ba150-fe13-4f62-f6cb-953fe4380c86"
      },
      "outputs": [
        {
          "output_type": "stream",
          "name": "stdout",
          "text": [
            "$1000 investment using in buy and hold:  519.3747417374369\n"
          ]
        }
      ],
      "source": [
        "print('$1000 investment using in buy and hold: ', (1000 / float(test_price.values[0]))*float(test_price.values[-1]))"
      ],
      "id": "Fc3YeACe2pGO"
    },
    {
      "cell_type": "code",
      "execution_count": null,
      "metadata": {
        "colab": {
          "base_uri": "https://localhost:8080/",
          "height": 349
        },
        "id": "AyOmq78UKl8r",
        "outputId": "d41a0cbf-f773-4886-ec3c-6066d7acf978"
      },
      "outputs": [
        {
          "output_type": "display_data",
          "data": {
            "text/plain": [
              "<Figure size 720x360 with 1 Axes>"
            ],
            "image/png": "[encoded data removed]"
          },
          "metadata": {
            "needs_background": "light"
          }
        }
      ],
      "source": [
        "fig, ax = plt.subplots(figsize = (10, 5))\n",
        "plt.plot(test_dates, (1000 / float(test_price.values[0])*test_price.values), label='Buy and Hold')\n",
        "plt.plot(test_dates, prices, label='Using strategy')\n",
        "plt.ylabel('Dollars')\n",
        "plt.xlabel('Days')\n",
        "plt.title('Different strategies plotted')\n",
        "plt.legend()\n",
        "plt.show()"
      ],
      "id": "AyOmq78UKl8r"
    },
    {
      "cell_type": "code",
      "execution_count": null,
      "metadata": {
        "id": "yI1MLX74lfuL"
      },
      "outputs": [],
      "source": [
        "cv = TimeSeriesSplit(n_splits = 3)\n",
        "model = LogisticRegression(max_iter = 450)\n",
        "scoring = {'f1': make_scorer(metrics.f1_score),\n",
        "           'acc': make_scorer(metrics.accuracy_score),\n",
        "           'rec': make_scorer(metrics.recall_score),\n",
        "           'pre': make_scorer(metrics.precision_score)}\n",
        "x_cv = x.copy().drop(columns=['time_close', 'close', 'target'])\n",
        "y_cv = y.copy().drop(columns='time_close')\n",
        "y_cv = np.where(y_cv < 0, 0, 1)\n",
        "scores = cross_validate(model , x_cv, y_cv.ravel(), scoring=scoring, cv=cv, return_train_score = True)"
      ],
      "id": "yI1MLX74lfuL"
    },
    {
      "cell_type": "code",
      "source": [
        "print('f1 :', np.mean(scores['test_f1']))\n",
        "print('acc :', np.mean(scores['test_acc']))\n",
        "print('precision :', np.mean(scores['test_pre']))\n",
        "print('recall :', np.mean(scores['test_rec']))"
      ],
      "metadata": {
        "colab": {
          "base_uri": "https://localhost:8080/"
        },
        "id": "knRcQfOThc7x",
        "outputId": "4c26215d-04be-4fdb-ac6d-90c15fb97da8"
      },
      "id": "knRcQfOThc7x",
      "execution_count": null,
      "outputs": [
        {
          "output_type": "stream",
          "name": "stdout",
          "text": [
            "f1 : 0.5634867545822136\n",
            "acc : 0.5217391304347826\n",
            "precision : 0.5325682528092167\n",
            "recall : 0.6314150631956235\n"
          ]
        }
      ]
    },
    {
      "cell_type": "code",
      "source": [],
      "metadata": {
        "id": "V1lPokPfsq-2"
      },
      "id": "V1lPokPfsq-2",
      "execution_count": null,
      "outputs": []
    }
  ],
  "metadata": {
    "colab": {
      "provenance": []
    },
    "kernelspec": {
      "display_name": "Python 3 (ipykernel)",
      "language": "python",
      "name": "python3"
    },
    "language_info": {
      "codemirror_mode": {
        "name": "ipython",
        "version": 3
      },
      "file_extension": ".py",
      "mimetype": "text/x-python",
      "name": "python",
      "nbconvert_exporter": "python",
      "pygments_lexer": "ipython3",
      "version": "3.8.12"
    }
  },
  "nbformat": 4,
  "nbformat_minor": 5
}
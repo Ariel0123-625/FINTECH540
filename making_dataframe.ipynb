{
 "cells": [
  {
   "cell_type": "markdown",
   "id": "747eec31-3a0d-4c33-9eff-5412734129dc",
   "metadata": {},
   "source": [
    "# Load rankings and categories"
   ]
  },
  {
   "cell_type": "code",
   "execution_count": 1,
   "id": "8e89eec6-d478-4a1f-ab0d-dad329d77211",
   "metadata": {},
   "outputs": [],
   "source": [
    "import numpy as np\n",
    "import pandas as pd\n",
    "from pandas.io.json import json_normalize\n",
    "import matplotlib\n",
    "import matplotlib.pyplot as plt\n",
    "%matplotlib inline\n",
    "import seaborn as sns\n",
    "import json,os,pdb\n",
    "import tqdm\n",
    "import warnings\n",
    "import yfinance as yf"
   ]
  },
  {
   "cell_type": "markdown",
   "id": "268988ca-a8f1-481e-a3a3-b96ee4b3562b",
   "metadata": {},
   "source": [
    "# Load data\n"
   ]
  },
  {
   "cell_type": "code",
   "execution_count": 2,
   "id": "e2b628f3-10d5-4869-a54a-16e3a266db04",
   "metadata": {},
   "outputs": [],
   "source": [
    "df = pd.read_parquet('~/work/project/daily_20221004.parquet.gzip') # modify the path according to your needs\n",
    "df.columns = [c.split('.')[-1].replace('_','') for c in df.columns]\n",
    "df.index = df.index.set_levels([df.index.levels[0], pd.to_datetime(df.index.levels[1])])"
   ]
  },
  {
   "cell_type": "markdown",
   "id": "758f715d-ff91-47f7-8045-f031a21ab48b",
   "metadata": {},
   "source": [
    "Load the listing file and check for the rankings"
   ]
  },
  {
   "cell_type": "code",
   "execution_count": 3,
   "id": "fc5bb3ff-ea11-4cf4-901d-16826dc6d94b",
   "metadata": {},
   "outputs": [],
   "source": [
    "with open('listing_map_20221004.json',encoding='utf-8') as json_data:\n",
    "    data = json.load(json_data)\n",
    "listmap = pd.DataFrame(data['data'])\n",
    "listmap.sort_values('cmc_rank',inplace=True)\n",
    "listmap.set_index('cmc_rank',inplace=True)\n",
    "listmap['symbol_id'] = listmap['symbol']+ '_'+ listmap['id'].astype(str)"
   ]
  },
  {
   "cell_type": "code",
   "execution_count": 4,
   "id": "9858ddd0-7f64-4329-9175-abd5cc98feee",
   "metadata": {},
   "outputs": [
    {
     "data": {
      "text/html": [
       "<div>\n",
       "<style scoped>\n",
       "    .dataframe tbody tr th:only-of-type {\n",
       "        vertical-align: middle;\n",
       "    }\n",
       "\n",
       "    .dataframe tbody tr th {\n",
       "        vertical-align: top;\n",
       "    }\n",
       "\n",
       "    .dataframe thead th {\n",
       "        text-align: right;\n",
       "    }\n",
       "</style>\n",
       "<table border=\"1\" class=\"dataframe\">\n",
       "  <thead>\n",
       "    <tr style=\"text-align: right;\">\n",
       "      <th></th>\n",
       "      <th></th>\n",
       "      <th>timeopen</th>\n",
       "      <th>timehigh</th>\n",
       "      <th>timelow</th>\n",
       "      <th>open</th>\n",
       "      <th>high</th>\n",
       "      <th>low</th>\n",
       "      <th>close</th>\n",
       "      <th>volume</th>\n",
       "      <th>marketcap</th>\n",
       "      <th>timestamp</th>\n",
       "      <th>symbol</th>\n",
       "      <th>id</th>\n",
       "    </tr>\n",
       "    <tr>\n",
       "      <th>symbol_id</th>\n",
       "      <th>time_close</th>\n",
       "      <th></th>\n",
       "      <th></th>\n",
       "      <th></th>\n",
       "      <th></th>\n",
       "      <th></th>\n",
       "      <th></th>\n",
       "      <th></th>\n",
       "      <th></th>\n",
       "      <th></th>\n",
       "      <th></th>\n",
       "      <th></th>\n",
       "      <th></th>\n",
       "    </tr>\n",
       "  </thead>\n",
       "  <tbody>\n",
       "    <tr>\n",
       "      <th rowspan=\"5\" valign=\"top\">MPH_7742</th>\n",
       "      <th>2020-11-23 00:59:59.999000+00:00</th>\n",
       "      <td>2020-11-23T00:00:00.000Z</td>\n",
       "      <td>2020-11-23T00:00:07.000Z</td>\n",
       "      <td>2020-11-23T00:37:05.000Z</td>\n",
       "      <td>90.554933</td>\n",
       "      <td>90.554933</td>\n",
       "      <td>79.852330</td>\n",
       "      <td>85.599205</td>\n",
       "      <td>1.600851e+07</td>\n",
       "      <td>0.0</td>\n",
       "      <td>2020-11-23T00:59:59.999Z</td>\n",
       "      <td>MPH</td>\n",
       "      <td>7742</td>\n",
       "    </tr>\n",
       "    <tr>\n",
       "      <th>2020-11-24 00:59:59.999000+00:00</th>\n",
       "      <td>2020-11-24T00:00:00.000Z</td>\n",
       "      <td>2020-11-24T00:00:07.000Z</td>\n",
       "      <td>2020-11-24T00:40:06.000Z</td>\n",
       "      <td>85.161030</td>\n",
       "      <td>85.161030</td>\n",
       "      <td>80.694133</td>\n",
       "      <td>81.645754</td>\n",
       "      <td>1.009738e+07</td>\n",
       "      <td>0.0</td>\n",
       "      <td>2020-11-24T00:59:59.999Z</td>\n",
       "      <td>MPH</td>\n",
       "      <td>7742</td>\n",
       "    </tr>\n",
       "    <tr>\n",
       "      <th>2020-11-25 00:59:59.999000+00:00</th>\n",
       "      <td>2020-11-25T00:00:00.000Z</td>\n",
       "      <td>2020-11-25T00:00:06.000Z</td>\n",
       "      <td>2020-11-25T00:58:05.000Z</td>\n",
       "      <td>57.527366</td>\n",
       "      <td>57.527366</td>\n",
       "      <td>53.679986</td>\n",
       "      <td>53.704963</td>\n",
       "      <td>8.899399e+06</td>\n",
       "      <td>0.0</td>\n",
       "      <td>2020-11-25T00:59:59.999Z</td>\n",
       "      <td>MPH</td>\n",
       "      <td>7742</td>\n",
       "    </tr>\n",
       "    <tr>\n",
       "      <th>2020-11-26 00:59:59.999000+00:00</th>\n",
       "      <td>2020-11-26T00:00:00.000Z</td>\n",
       "      <td>2020-11-26T00:56:05.000Z</td>\n",
       "      <td>2020-11-26T00:13:06.000Z</td>\n",
       "      <td>39.466839</td>\n",
       "      <td>40.121814</td>\n",
       "      <td>38.980499</td>\n",
       "      <td>40.056399</td>\n",
       "      <td>4.225065e+06</td>\n",
       "      <td>0.0</td>\n",
       "      <td>2020-11-26T00:59:59.999Z</td>\n",
       "      <td>MPH</td>\n",
       "      <td>7742</td>\n",
       "    </tr>\n",
       "    <tr>\n",
       "      <th>2020-11-27 00:59:59.999000+00:00</th>\n",
       "      <td>2020-11-27T00:00:00.000Z</td>\n",
       "      <td>2020-11-27T00:57:05.000Z</td>\n",
       "      <td>2020-11-27T00:16:05.000Z</td>\n",
       "      <td>30.002092</td>\n",
       "      <td>30.391962</td>\n",
       "      <td>29.690305</td>\n",
       "      <td>30.383005</td>\n",
       "      <td>2.933446e+06</td>\n",
       "      <td>0.0</td>\n",
       "      <td>2020-11-27T00:59:59.999Z</td>\n",
       "      <td>MPH</td>\n",
       "      <td>7742</td>\n",
       "    </tr>\n",
       "  </tbody>\n",
       "</table>\n",
       "</div>"
      ],
      "text/plain": [
       "                                                            timeopen  \\\n",
       "symbol_id time_close                                                   \n",
       "MPH_7742  2020-11-23 00:59:59.999000+00:00  2020-11-23T00:00:00.000Z   \n",
       "          2020-11-24 00:59:59.999000+00:00  2020-11-24T00:00:00.000Z   \n",
       "          2020-11-25 00:59:59.999000+00:00  2020-11-25T00:00:00.000Z   \n",
       "          2020-11-26 00:59:59.999000+00:00  2020-11-26T00:00:00.000Z   \n",
       "          2020-11-27 00:59:59.999000+00:00  2020-11-27T00:00:00.000Z   \n",
       "\n",
       "                                                            timehigh  \\\n",
       "symbol_id time_close                                                   \n",
       "MPH_7742  2020-11-23 00:59:59.999000+00:00  2020-11-23T00:00:07.000Z   \n",
       "          2020-11-24 00:59:59.999000+00:00  2020-11-24T00:00:07.000Z   \n",
       "          2020-11-25 00:59:59.999000+00:00  2020-11-25T00:00:06.000Z   \n",
       "          2020-11-26 00:59:59.999000+00:00  2020-11-26T00:56:05.000Z   \n",
       "          2020-11-27 00:59:59.999000+00:00  2020-11-27T00:57:05.000Z   \n",
       "\n",
       "                                                             timelow  \\\n",
       "symbol_id time_close                                                   \n",
       "MPH_7742  2020-11-23 00:59:59.999000+00:00  2020-11-23T00:37:05.000Z   \n",
       "          2020-11-24 00:59:59.999000+00:00  2020-11-24T00:40:06.000Z   \n",
       "          2020-11-25 00:59:59.999000+00:00  2020-11-25T00:58:05.000Z   \n",
       "          2020-11-26 00:59:59.999000+00:00  2020-11-26T00:13:06.000Z   \n",
       "          2020-11-27 00:59:59.999000+00:00  2020-11-27T00:16:05.000Z   \n",
       "\n",
       "                                                 open       high        low  \\\n",
       "symbol_id time_close                                                          \n",
       "MPH_7742  2020-11-23 00:59:59.999000+00:00  90.554933  90.554933  79.852330   \n",
       "          2020-11-24 00:59:59.999000+00:00  85.161030  85.161030  80.694133   \n",
       "          2020-11-25 00:59:59.999000+00:00  57.527366  57.527366  53.679986   \n",
       "          2020-11-26 00:59:59.999000+00:00  39.466839  40.121814  38.980499   \n",
       "          2020-11-27 00:59:59.999000+00:00  30.002092  30.391962  29.690305   \n",
       "\n",
       "                                                close        volume  \\\n",
       "symbol_id time_close                                                  \n",
       "MPH_7742  2020-11-23 00:59:59.999000+00:00  85.599205  1.600851e+07   \n",
       "          2020-11-24 00:59:59.999000+00:00  81.645754  1.009738e+07   \n",
       "          2020-11-25 00:59:59.999000+00:00  53.704963  8.899399e+06   \n",
       "          2020-11-26 00:59:59.999000+00:00  40.056399  4.225065e+06   \n",
       "          2020-11-27 00:59:59.999000+00:00  30.383005  2.933446e+06   \n",
       "\n",
       "                                            marketcap  \\\n",
       "symbol_id time_close                                    \n",
       "MPH_7742  2020-11-23 00:59:59.999000+00:00        0.0   \n",
       "          2020-11-24 00:59:59.999000+00:00        0.0   \n",
       "          2020-11-25 00:59:59.999000+00:00        0.0   \n",
       "          2020-11-26 00:59:59.999000+00:00        0.0   \n",
       "          2020-11-27 00:59:59.999000+00:00        0.0   \n",
       "\n",
       "                                                           timestamp symbol  \\\n",
       "symbol_id time_close                                                          \n",
       "MPH_7742  2020-11-23 00:59:59.999000+00:00  2020-11-23T00:59:59.999Z    MPH   \n",
       "          2020-11-24 00:59:59.999000+00:00  2020-11-24T00:59:59.999Z    MPH   \n",
       "          2020-11-25 00:59:59.999000+00:00  2020-11-25T00:59:59.999Z    MPH   \n",
       "          2020-11-26 00:59:59.999000+00:00  2020-11-26T00:59:59.999Z    MPH   \n",
       "          2020-11-27 00:59:59.999000+00:00  2020-11-27T00:59:59.999Z    MPH   \n",
       "\n",
       "                                              id  \n",
       "symbol_id time_close                              \n",
       "MPH_7742  2020-11-23 00:59:59.999000+00:00  7742  \n",
       "          2020-11-24 00:59:59.999000+00:00  7742  \n",
       "          2020-11-25 00:59:59.999000+00:00  7742  \n",
       "          2020-11-26 00:59:59.999000+00:00  7742  \n",
       "          2020-11-27 00:59:59.999000+00:00  7742  "
      ]
     },
     "execution_count": 4,
     "metadata": {},
     "output_type": "execute_result"
    }
   ],
   "source": [
    "df.head()"
   ]
  },
  {
   "cell_type": "markdown",
   "id": "949eae86-a0f3-48d3-a59d-9c15513273a0",
   "metadata": {},
   "source": [
    "# Begining Analysis"
   ]
  },
  {
   "cell_type": "code",
   "execution_count": null,
   "id": "67a061b6-5704-4f22-a0af-e3e8ef804d5c",
   "metadata": {},
   "outputs": [],
   "source": [
    "df2 = df.copy() # makes copy of original df\n",
    "df2.reset_index(inplace = True)\n",
    "df2['year'] = pd.DatetimeIndex(df2['timeopen']).year # adds year column to data frame\n",
    "df2['month'] = pd.DatetimeIndex(df2['timeopen']).month  # adds month column to data frame\n",
    "df2['day'] = pd.DatetimeIndex(df2['timeopen']).day  # adds day column to data frame\n",
    "df2_first = df2.drop_duplicates(subset='symbol_id') #finds the first entry for each symbol\n",
    "df2_last = df2.drop_duplicates(subset='symbol_id', keep='last').copy() #finds the last symbol for each symbol\n",
    "df2_last['market_perc'] = df2_last['marketcap']/ df2_last['marketcap'].sum() # finds the market cap percentage. Used last known marketcap to calc\n",
    "df2_last = df2_last.sort_values('market_perc', ascending=False) # sort from highest market cap percent to lowest\n",
    "df2_last['cum_perc'] = df2_last['market_perc'].cumsum() # creates a column for the cumulative percentage"
   ]
  },
  {
   "cell_type": "code",
   "execution_count": null,
   "id": "cade698c-7dd0-4062-9747-9c455a4e6e6b",
   "metadata": {},
   "outputs": [],
   "source": [
    "df2_last.head(10) #shows the top 10 highest market cap coins"
   ]
  },
  {
   "cell_type": "code",
   "execution_count": null,
   "id": "ea04f4d4-eebe-4468-a6ca-42b07af5f27e",
   "metadata": {},
   "outputs": [],
   "source": [
    "df_cutoff = df2_last.loc[df2_last['cum_perc'] <= .91]\n",
    "tethers = df_cutoff.loc[(df_cutoff['close'] > .99) & (df_cutoff['close'] < 1.01)]['symbol_id'].values # removes 4 tether coins\n",
    "df_cutoff = df_cutoff.loc[~df_cutoff['symbol_id'].isin(tethers)]\n",
    "df_cutoff = df_cutoff.loc[(df_cutoff['year'] == 2022) & (df_cutoff['month'] >= 10)]\n",
    "df2_cutoff = df2_first.loc[df2_first['symbol_id'].isin(df_cutoff['symbol_id'])]\n",
    "symbols = df2_cutoff.loc[df2_cutoff['year'] > 2020]['symbol_id'].values\n",
    "symbols2 = df2_cutoff.loc[(df2_cutoff['year'] == 2020) & (df2_cutoff['month'] > 8)]['symbol_id'].values\n",
    "all_symbols = np.concatenate((symbols, symbols2))"
   ]
  },
  {
   "cell_type": "code",
   "execution_count": null,
   "id": "d57de972-f2ac-43ad-be79-2cb870830722",
   "metadata": {},
   "outputs": [],
   "source": [
    "plt.figure(1)\n",
    "plt.style.use('seaborn')\n",
    "plt.rcParams['figure.figsize'] = [15, 15]\n",
    "sns.barplot(data=df_cutoff.loc[~df_cutoff['symbol_id'].isin(all_symbols)], x=\"symbol_id\", y=\"market_perc\")\n",
    "plt.xlabel('Symbol ID')\n",
    "plt.ylabel('Market Cap Percentage')\n",
    "plt.title('Market Cap Percentage for all Coins in List')\n",
    "plt.xticks(rotation=90)\n",
    "plt.show()"
   ]
  },
  {
   "cell_type": "code",
   "execution_count": null,
   "id": "5a22c916-1812-43ca-a249-902c15ce09e1",
   "metadata": {},
   "outputs": [],
   "source": [
    "print(len(df2_cutoff))"
   ]
  },
  {
   "cell_type": "code",
   "execution_count": null,
   "id": "d5b202a4-3308-4747-b23c-d4e0aa9cd9b3",
   "metadata": {},
   "outputs": [],
   "source": [
    "print(len(all_symbols))"
   ]
  },
  {
   "cell_type": "code",
   "execution_count": null,
   "id": "25b33083-a1fc-43c1-abf5-8d33483903e7",
   "metadata": {},
   "outputs": [],
   "source": [
    "df3 = df.copy()\n",
    "df3.reset_index(inplace = True)\n",
    "df3 = df3.loc[df3['symbol_id'].isin(df_cutoff['symbol_id'])]\n",
    "df3 = df3.loc[~df3['symbol_id'].isin(all_symbols)]"
   ]
  },
  {
   "cell_type": "code",
   "execution_count": null,
   "id": "99eddd1a-56a9-4b6e-bdcc-aba88fed3f60",
   "metadata": {},
   "outputs": [],
   "source": [
    "df3['month'] = df3['time_close'].dt.month\n",
    "df3['day'] = df3['time_close'].dt.day\n",
    "df3['weekday'] = df3['time_close'].dt.weekday\n",
    "df3['day of week'] = np.where(df3['weekday'] > 4, 0, 1)"
   ]
  },
  {
   "cell_type": "code",
   "execution_count": null,
   "id": "414d6a8b-216f-4f4a-a2a5-8e7af38aa27b",
   "metadata": {},
   "outputs": [],
   "source": [
    "df3['time_close'] = df3['time_close'].dt.date\n",
    "df3 = df3[(df3['time_close'] >= df3.loc[df3['symbol_id'] == 'DOT_6636']['time_close'].min())]\n",
    "df3.dropna(subset='volume', inplace=True)\n",
    "df3 = df3[(df3['time_close'] >= df3['time_close'].min())]\n",
    "all_syms = df3['symbol_id'].unique()"
   ]
  },
  {
   "cell_type": "code",
   "execution_count": null,
   "id": "a0a1cde2-2d9e-488d-800a-53102c7d50b6",
   "metadata": {},
   "outputs": [],
   "source": [
    "df3 = df3.drop_duplicates(subset=['symbol_id', 'time_close'])\n",
    "for syms_in in all_syms:\n",
    "    miss = df3.loc[df3['symbol_id'] == syms_in]\n",
    "    df3 = df3[df3['time_close'].isin(miss['time_close'])]"
   ]
  },
  {
   "cell_type": "code",
   "execution_count": null,
   "id": "ee9b6b8b-4cd8-477b-a742-819b757c9927",
   "metadata": {},
   "outputs": [],
   "source": [
    "df3['price change'] = df3['close'].pct_change()\n",
    "df3['volume change'] = df3['volume'].pct_change()\n",
    "df3['tomorrow change'] = df3['close'].pct_change().shift(-1)\n",
    "\n",
    "df3.drop(df3.groupby('symbol_id')['price change'].head(1).index, inplace=True)\n",
    "df3.drop(df3.groupby('symbol_id')['tomorrow change'].tail(1).index, inplace=True) "
   ]
  },
  {
   "cell_type": "code",
   "execution_count": null,
   "id": "b2b128aa-fb91-4859-af3c-88a221d29dbb",
   "metadata": {},
   "outputs": [],
   "source": [
    "def get_info(tick):\n",
    "    TICKER = tick\n",
    "    START_DATE = '2020-09-24'\n",
    "    END_DATE = '2022-10-3'\n",
    "    stock = yf.download(TICKER, \n",
    "                     start=START_DATE, \n",
    "                     end=END_DATE,\n",
    "                     progress=False)\n",
    "    df3[tick] = stock['Adj Close']\n",
    "    df3[tick] = df3.groupby(['symbol_id'])[tick].ffill()"
   ]
  },
  {
   "cell_type": "code",
   "execution_count": null,
   "id": "271c6c31-0d34-472b-bf24-ad6020beab7f",
   "metadata": {},
   "outputs": [],
   "source": [
    "df3.set_index(['time_close'],inplace = True)\n",
    "ticks = ['SPY', '^VIX', '^TNX', 'GC=F', 'CL=F', 'EURUSD=X']\n",
    "for tick in ticks:\n",
    "    get_info(tick)\n",
    "df3 = df3.rename(columns={'^TNX': '10Y Treasury',\n",
    "                          '^VIX': 'VIX',\n",
    "                          'GC=F': 'Gold',\n",
    "                          'CL=F': 'Oil',\n",
    "                          'EURUSD=X': 'EUR_USD'})"
   ]
  },
  {
   "cell_type": "code",
   "execution_count": null,
   "id": "5fca9f87-5e34-46db-959c-8fcca00ada2f",
   "metadata": {},
   "outputs": [],
   "source": [
    "df3.drop(columns=['timeopen', 'timehigh', 'timelow', 'open', 'high', 'low', 'timestamp', 'symbol', 'id'], inplace = True)\n",
    "df3.reset_index(inplace = True)\n",
    "df3.set_index(['symbol_id', 'time_close'],inplace = True)"
   ]
  },
  {
   "cell_type": "markdown",
   "id": "81ba3162-4fdb-4d1d-b732-b3bd4e5dc7ae",
   "metadata": {},
   "source": [
    "## Got rid of all nan volumes, first and last entries for each coin. Starts at 2020-09-24 ends at 2022-10-3"
   ]
  },
  {
   "cell_type": "code",
   "execution_count": null,
   "id": "94622c11-8363-47e1-ad86-3c8bdb716763",
   "metadata": {},
   "outputs": [],
   "source": [
    "df3.head()"
   ]
  },
  {
   "cell_type": "code",
   "execution_count": null,
   "id": "de244327-df48-45c4-bebe-1e951743c8eb",
   "metadata": {},
   "outputs": [],
   "source": [
    "# df3.to_csv('clean_df.csv',index=True)"
   ]
  },
  {
   "cell_type": "code",
   "execution_count": null,
   "id": "a3605baa-020f-48e2-bf51-3e62019f48c8",
   "metadata": {},
   "outputs": [],
   "source": [
    "df3.index.unique(level='symbol_id')"
   ]
  },
  {
   "cell_type": "code",
   "execution_count": null,
   "id": "7daa432c-7c5a-4fb8-adc1-da4e94b04b9b",
   "metadata": {},
   "outputs": [],
   "source": [
    "btc = df3.loc['BTC_1']"
   ]
  },
  {
   "cell_type": "code",
   "execution_count": null,
   "id": "5927c0de-8326-4a1c-acd7-b0eac6f56cc1",
   "metadata": {},
   "outputs": [],
   "source": [
    "plt.figure(2)\n",
    "btc.plot(y=['close', 'volume', 'marketcap',\n",
    "            'SPY', 'VIX', '10Y Treasury', 'Gold', 'Oil'], \n",
    "        logy=True, figsize=(15, 10),\n",
    "        cmap = 'tab10')\n",
    "plt.xlabel('Date')\n",
    "plt.ylabel('Price or volume')\n",
    "plt.title('BTC price plotted against other prices and volume')\n",
    "plt.show()"
   ]
  },
  {
   "cell_type": "code",
   "execution_count": null,
   "id": "f607569a-9388-45ce-93cd-cfa4c8f8d6ff",
   "metadata": {},
   "outputs": [],
   "source": [
    "plt.figure(3)\n",
    "q3, q1 = btc['tomorrow change'].quantile([0.99, 0.01])\n",
    "btc.loc[(btc['tomorrow change'] < q3) & (btc['tomorrow change'] > q1)]['tomorrow change'].plot.hist(density=1,bins=55)\n",
    "plt.title('BTC price change histogram')\n",
    "plt.show()"
   ]
  },
  {
   "cell_type": "code",
   "execution_count": null,
   "id": "42673fac-c0ca-4560-9ddf-9a8ba2de5727",
   "metadata": {},
   "outputs": [],
   "source": [
    "plt.figure(4)\n",
    "sns.boxplot(y='tomorrow change',x='weekday',data=btc,showfliers=False)\n",
    "plt.xlabel('Day of the week')\n",
    "plt.ylabel('Price change')\n",
    "plt.title('Boxplot for price change and day of week')\n",
    "plt.show()"
   ]
  },
  {
   "cell_type": "code",
   "execution_count": null,
   "id": "18a2fdb3-2d9d-4e1a-81d9-8711c7da4884",
   "metadata": {},
   "outputs": [],
   "source": [
    "plt.figure(5)\n",
    "corrmat = btc.corr()\n",
    "sns.heatmap(corrmat,cmap=\"RdBu\",linewidths=.5, vmin=-1, vmax=1, annot=True)\n",
    "plt.title('BTC correlation matrix')\n",
    "plt.show()"
   ]
  },
  {
   "cell_type": "code",
   "execution_count": null,
   "id": "cd5382b6-3d6c-4e89-883f-30a7c2cd6406",
   "metadata": {},
   "outputs": [],
   "source": [
    "plt.figure(6)\n",
    "non_day_columns = ['close', 'volume', 'marketcap','SPY', 'VIX', '10Y Treasury', 'Gold', 'Oil']\n",
    "plt.subplots_adjust(hspace = 0.3, wspace = 0.3)\n",
    "plt.suptitle(\"Boxplot for all BTC columns\", fontsize=18, y = 0.95)\n",
    "for n, column in enumerate(non_day_columns):\n",
    "    ax = plt.subplot(2,4, n + 1)\n",
    "    sns.boxplot(y=btc[column], showfliers=False)\n",
    "    ax.set_title(column)\n",
    "    ax.set_ylabel(\"Price ($)\", labelpad = 0.02)"
   ]
  },
  {
   "cell_type": "code",
   "execution_count": null,
   "id": "424842dd-a501-46c6-b2f1-2e77dc220af1",
   "metadata": {},
   "outputs": [],
   "source": []
  }
 ],
 "metadata": {
  "kernelspec": {
   "display_name": "Python 3 (ipykernel)",
   "language": "python",
   "name": "python3"
  },
  "language_info": {
   "codemirror_mode": {
    "name": "ipython",
    "version": 3
   },
   "file_extension": ".py",
   "mimetype": "text/x-python",
   "name": "python",
   "nbconvert_exporter": "python",
   "pygments_lexer": "ipython3",
   "version": "3.8.12"
  }
 },
 "nbformat": 4,
 "nbformat_minor": 5
}

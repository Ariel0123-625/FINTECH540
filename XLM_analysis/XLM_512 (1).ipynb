{
 "cells": [
  {
   "cell_type": "markdown",
   "id": "194a77b2-c705-4752-81ce-c567111aab78",
   "metadata": {},
   "source": [
    "## Analysis of XLM_512"
   ]
  },
  {
   "cell_type": "code",
   "execution_count": null,
   "id": "350f3c29-8c4c-4ed1-8052-e580479494b9",
   "metadata": {},
   "outputs": [],
   "source": [
    "import numpy as np\n",
    "import pandas as pd\n",
    "from pandas.io.json import json_normalize\n",
    "import matplotlib\n",
    "import matplotlib.pyplot as plt\n",
    "%matplotlib inline\n",
    "import seaborn as sns\n",
    "import json,os,pdb\n",
    "import tqdm\n",
    "import warnings\n",
    "import yfinance as yf\n",
    "from sklearn.linear_model import LinearRegression\n",
    "from sklearn.model_selection import train_test_split\n",
    "from sklearn.preprocessing import StandardScaler\n",
    "from sklearn.metrics import mean_squared_error, r2_score, confusion_matrix\n",
    "import statsmodels.formula.api as smf\n",
    "from sklearn.tree import DecisionTreeClassifier"
   ]
  },
  {
   "cell_type": "code",
   "execution_count": null,
   "id": "c043b249-c8b2-4965-b9be-48bf04ba196e",
   "metadata": {},
   "outputs": [],
   "source": [
    "df_clean=pd.read_csv('clean_df.csv')\n",
    "df=df_clean[df_clean['symbol_id']=='XLM_512']\n",
    "df.shape"
   ]
  },
  {
   "cell_type": "code",
   "execution_count": null,
   "id": "20d6b99e-281c-4e28-86bc-407adb0f9a58",
   "metadata": {},
   "outputs": [],
   "source": [
    "df.describe()#close price is 0.26 on average"
   ]
  },
  {
   "cell_type": "code",
   "execution_count": null,
   "id": "58ee62e8-9261-45de-9305-b1c80a7fe457",
   "metadata": {},
   "outputs": [],
   "source": [
    "df.index=df['time_close']\n",
    "df"
   ]
  },
  {
   "cell_type": "code",
   "execution_count": null,
   "id": "a67d01f6-9f5c-4d3b-9d1d-0f2b44f3e63a",
   "metadata": {},
   "outputs": [],
   "source": [
    "df.isnull().sum()"
   ]
  },
  {
   "cell_type": "code",
   "execution_count": null,
   "id": "bfc033d6-8f7b-4c14-bd55-822b3dde4627",
   "metadata": {},
   "outputs": [],
   "source": [
    "df.plot(y=['close', 'volume', 'marketcap',\n",
    "                     'SPY', 'VIX', '10Y Treasury', 'Gold', 'Oil','EUR_USD'], logy=True,figsize=(15, 10))\n",
    "plt.xlabel('Date')\n",
    "plt.ylabel('Price or volume')\n",
    "plt.title('XLM_512 price plotted against other prices and volume')\n",
    "plt.show()\n"
   ]
  },
  {
   "cell_type": "code",
   "execution_count": null,
   "id": "ab50d326-bae2-4bdc-ad88-6eb993362605",
   "metadata": {},
   "outputs": [],
   "source": [
    "    plt.figure(figsize=(15,10))\n",
    "    q3, q1 = df['tomorrow change'].quantile([0.99, 0.01])\n",
    "    df.loc[(df['tomorrow change'] < q3) & (df['tomorrow change'] > q1)]['tomorrow change'].plot.hist(density=1,bins=100)\n",
    "    plt.title('XLM_512 price change histogram')\n",
    "    plt.show()\n",
    "    print(\"Skewness: %f\" % df['tomorrow change'].skew())\n",
    "    print(\"Kurtosis: %f\" % df['tomorrow change'].kurt())#sharp peak"
   ]
  },
  {
   "cell_type": "code",
   "execution_count": null,
   "id": "0af731c8-170e-4ebd-a037-0d28e25d989c",
   "metadata": {},
   "outputs": [],
   "source": [
    "for i in ['month','day','weekday','day of week','SPY', 'VIX', '10Y Treasury', 'Gold', 'Oil','EUR_USD']:\n",
    "    #df.plot(x=i,y='close',kind='scatter')\n",
    "    print(df[['close',i]].corr(method = 'pearson'))\n",
    "    plot = sns.lmplot(y='close',x=i,data=df) "
   ]
  },
  {
   "cell_type": "code",
   "execution_count": null,
   "id": "689f6301-f2f6-4098-a1fe-53b390925b70",
   "metadata": {},
   "outputs": [],
   "source": [
    "#check seasonality\n",
    "plt.figure(figsize=(15, 10))\n",
    "df['year'] = pd.DatetimeIndex(df['time_close']).year\n",
    "df['time_close'] = pd.to_datetime(df['time_close'])\n",
    "sns.lineplot(x=df['time_close'].dt.dayofyear, y=df['close'], hue=df['year']) #no special trends each year, close is low in mid year, high in the first half year?"
   ]
  },
  {
   "cell_type": "code",
   "execution_count": null,
   "id": "d1b93aa0-c27d-4af1-a207-5b7f003035e8",
   "metadata": {},
   "outputs": [],
   "source": [
    "df=df.drop(columns=['year'])"
   ]
  },
  {
   "cell_type": "code",
   "execution_count": null,
   "id": "8a083c43-9e83-45a3-95e0-79ec2320a734",
   "metadata": {},
   "outputs": [],
   "source": [
    "import statsmodels.api as sm"
   ]
  },
  {
   "cell_type": "code",
   "execution_count": null,
   "id": "651a2a95-05e8-43c3-baf4-e5f76b47fb6f",
   "metadata": {},
   "outputs": [],
   "source": [
    "df_close = df[['time_close', 'close']].copy()\n",
    "df_close = df_close.set_index('time_close')\n",
    "df_close.head()\n",
    "\n",
    "decomp = sm.tsa.seasonal_decompose(df_close, period=100)\n",
    "fig = decomp.plot()\n",
    "fig.set_size_inches(10, 8)"
   ]
  },
  {
   "cell_type": "code",
   "execution_count": null,
   "id": "6c614600-7468-4d75-90fd-102c787daff7",
   "metadata": {},
   "outputs": [],
   "source": [
    "corrmat = df.corr()\n",
    "f, ax = plt.subplots(figsize=(12, 9))\n",
    "sns.heatmap(corrmat,cmap=\"PiYG\",linewidths=.5)"
   ]
  },
  {
   "cell_type": "code",
   "execution_count": null,
   "id": "d1d08d36-6deb-4c5c-a390-05d8c5e731b7",
   "metadata": {},
   "outputs": [],
   "source": []
  },
  {
   "cell_type": "markdown",
   "id": "99fe95fd-3072-4532-8868-b123e3df35b7",
   "metadata": {},
   "source": [
    "## check stationarity"
   ]
  },
  {
   "cell_type": "code",
   "execution_count": null,
   "id": "b142edc5-6b10-4104-98c3-1f7776ffb31f",
   "metadata": {},
   "outputs": [],
   "source": [
    "from statsmodels.tsa.stattools import adfuller\n",
    "\n",
    "#ADF statistic to check stationarity\n",
    "for col in df.columns[2:]:\n",
    "    timeseries = df[col]\n",
    "    result = adfuller(timeseries)\n",
    "    #plt.figure(figsize=(15, 10))\n",
    "   # ax = timeseries.plot(secondary_y=False, logy=False)\n",
    "\n",
    "    #print(f'Testing {col} from {timeseries.index[0]:%Y-%m-%d} to {timeseries.index[-1]:%Y-%m-%d} for Stationarity')\n",
    "    print(f'ADF Statistic: {result[0]:.3f}')\n",
    "    print(f'p-value: {result[1]:.3E}')\n",
    "#     print('Critical Values:')\n",
    "#     for key, value in result[4].items():\n",
    "#         print('\\t%s: %.3f' % (key, value))\n",
    "    if result[0] > result[4][\"5%\"]:\n",
    "        conclusion=f\"Failed to Reject H_0 at 5% -> {col} Time Series is Non-Stationary\"\n",
    "    else:\n",
    "        conclusion=f\"Reject H_0 at at 5% -> {col} Time Series is Stationary\"\n",
    "    print(conclusion)\n",
    "    print('\\n')"
   ]
  },
  {
   "cell_type": "code",
   "execution_count": null,
   "id": "42a10c53-4916-4e22-9b15-1dd2f6239f84",
   "metadata": {},
   "outputs": [],
   "source": [
    "for i in ['SPY','VIX','Gold','Oil','EUR_USD','10Y Treasury','marketcap']:\n",
    "    df[i+'_ret']=df[i].pct_change()\n",
    "df"
   ]
  },
  {
   "cell_type": "code",
   "execution_count": null,
   "id": "4debdeb9-d73a-4e15-8451-25c6c50e10d1",
   "metadata": {},
   "outputs": [],
   "source": [
    "df.drop(df.groupby('symbol_id')['SPY_ret'].head(1).index, inplace=True) \n",
    "df"
   ]
  },
  {
   "cell_type": "code",
   "execution_count": null,
   "id": "187bbd47-9d71-4f34-90ef-79af5dbb1048",
   "metadata": {},
   "outputs": [],
   "source": [
    "df.columns"
   ]
  },
  {
   "cell_type": "code",
   "execution_count": null,
   "id": "26eab311-301c-4873-a3f9-0a6bc8941279",
   "metadata": {},
   "outputs": [],
   "source": [
    "df=df.drop(columns=['symbol_id', 'time_close', 'close',  'volume','marketcap','SPY','10Y Treasury', 'Gold', 'Oil',\n",
    "      'EUR_USD', 'VIX_ret'])\n",
    "df"
   ]
  },
  {
   "cell_type": "code",
   "execution_count": null,
   "id": "05a095b8-1969-4dff-b439-0d5bd48a1484",
   "metadata": {},
   "outputs": [],
   "source": [
    "#df=df.drop(columns=['symbol_id', 'time_close', 'close', 'volume', 'marketcap', 'month',\n",
    "#     'day', 'weekday', 'day of week', 'price change', 'volume change','SPY','10Y Treasury', 'Gold', 'Oil',\n",
    "#      'EUR_USD', 'VIX_ret'])\n",
    "#df=df.drop(columns=['symbol_id', 'time_close', 'close',  'volume','marketcap','SPY','10Y Treasury', 'Gold', 'Oil',\n",
    "#      'EUR_USD', 'VIX_ret'])\n",
    "\n",
    "\n",
    "#print(df)\n",
    "\n",
    "train_size = int(len(df) * 0.8)\n",
    "test_size = len(df) - train_size\n",
    "X_train,X_test = df.drop(columns='tomorrow change').iloc[0:train_size+1,0:], df.drop(columns='tomorrow change').iloc[train_size+1:,0:]\n",
    "y_train,y_test=df.iloc[0:train_size+1,6], df.iloc[train_size+1:,6]\n",
    "scaler=StandardScaler()\n",
    "normalize_X_train = pd.DataFrame(scaler.fit_transform(X_train), columns=X_train.columns)\n",
    "normalize_X_test=pd.DataFrame(scaler.fit_transform(X_test),columns= X_test.columns)"
   ]
  },
  {
   "cell_type": "code",
   "execution_count": null,
   "id": "992282e7-a0e4-496c-b5ee-c7159efd668b",
   "metadata": {},
   "outputs": [],
   "source": [
    "normalize_X_train, X_test, y_train, y_test"
   ]
  },
  {
   "cell_type": "code",
   "execution_count": null,
   "id": "f13811f8-483a-4a53-bcc6-45fffbfa2586",
   "metadata": {},
   "outputs": [],
   "source": []
  },
  {
   "cell_type": "markdown",
   "id": "cd7e7701-21f2-40c3-a0ad-b2a72fdf8edf",
   "metadata": {},
   "source": [
    "## linear regression: X is all stationary variable, y is tmr change"
   ]
  },
  {
   "cell_type": "code",
   "execution_count": null,
   "id": "9b9eef7e-39f6-46b5-ac13-9923226759dd",
   "metadata": {},
   "outputs": [],
   "source": [
    "#X=df[['SPY', 'VIX', '10Y Treasury', 'Gold', 'Oil', 'EUR_USD']]\n",
    "#y=df['tomorrow change']\n",
    "#train_size = int(len(df) * 0.8)\n",
    "#test_size = len(df) - train_size\n",
    "#X_train,X_test = df.iloc[0:train_size, 12:18], df.iloc[train_size:len(df), 12:18]\n",
    "#y_train,y_test=df.iloc[0:train_size, 11], df.iloc[train_size:len(df), 11]\n",
    "#scaler=StandardScaler()\n",
    "#normalize_X_train = pd.DataFrame(scaler.fit_transform(X_train), columns=X_train.columns)*/\n",
    "\n",
    "\n",
    "model=LinearRegression().fit(normalize_X_train, y_train)\n",
    "y_pred=model.predict(normalize_X_test)"
   ]
  },
  {
   "cell_type": "code",
   "execution_count": null,
   "id": "48012400-3c6a-4949-a78e-de0c3e9d5de0",
   "metadata": {},
   "outputs": [],
   "source": [
    "print(\"Coefficient of determination: %.2f\" % r2_score(y_test, y_pred)) #not accurate"
   ]
  },
  {
   "cell_type": "code",
   "execution_count": null,
   "id": "173296a0-9c3a-4078-987d-15551458d2b3",
   "metadata": {},
   "outputs": [],
   "source": [
    "plt.plot(y_pred,color='red')#red is predicted value\n",
    "plt.plot(list(y_test))#true value"
   ]
  },
  {
   "cell_type": "code",
   "execution_count": null,
   "id": "9646547b-5a1b-4553-91e9-e526ba3b5d46",
   "metadata": {},
   "outputs": [],
   "source": [
    "df.columns"
   ]
  },
  {
   "cell_type": "markdown",
   "id": "0a924eb3-e604-49a1-8417-5ff051a7af34",
   "metadata": {},
   "source": [
    "##ols"
   ]
  },
  {
   "cell_type": "code",
   "execution_count": null,
   "id": "8895780b-5125-4819-b4a9-5cb6b9a2632b",
   "metadata": {},
   "outputs": [],
   "source": [
    "#ols\n",
    "df2=df.copy()\n",
    "df2.columns = [c.replace(' ', '_') for c in df2.columns]\n",
    "df2=df2.rename(columns = {'10Y_Treasury_ret':'Treasury10y_ret'})\n",
    "reg_mul = smf.ols('tomorrow_change ~  month+day+weekday+day_of_week+price_change+volume_change+SPY_ret+VIX+Treasury10y_ret+Gold_ret+Oil_ret+EUR_USD_ret+marketcap_ret', data = df2)\n",
    "res_mul = reg_mul.fit()\n",
    "print(res_mul.summary())"
   ]
  },
  {
   "cell_type": "code",
   "execution_count": null,
   "id": "f6a4f201-a865-4df5-8031-37da65168b44",
   "metadata": {},
   "outputs": [],
   "source": [
    "df_clean=df_clean.set_index('time_close')"
   ]
  },
  {
   "cell_type": "code",
   "execution_count": null,
   "id": "f1100dd3-d599-420a-9411-6cf79804c4ef",
   "metadata": {},
   "outputs": [],
   "source": [
    "#add LTC_2 and XRP_52\n",
    "ltc=df_clean[df_clean['symbol_id']=='LTC_2']['close']\n",
    "xrp=df_clean[df_clean['symbol_id']=='XRP_52']['close']\n",
    "doge=df_clean[df_clean['symbol_id']=='DOGE_74']['close']\n",
    "eth=df_clean[df_clean['symbol_id']=='ETH_1027']['close']\n",
    "btc=df_clean[df_clean['symbol_id']=='BTC_1']['close']\n",
    "xmr=df_clean[df_clean['symbol_id']=='XMR_328']['close']\n",
    "\n",
    "df3=df.copy()\n",
    "df3['ltc']=ltc\n",
    "df3['xrp']=xrp\n",
    "df3['doge']=doge\n",
    "df3['eth']=eth\n",
    "df3['btc']=btc\n",
    "df3['xmr']=xmr\n",
    "df3.columns"
   ]
  },
  {
   "cell_type": "code",
   "execution_count": null,
   "id": "26094ff4-1610-42bd-9b03-043201335953",
   "metadata": {},
   "outputs": [],
   "source": [
    "df3['ltc_ret']=df3['ltc'].pct_change()\n",
    "df3['xrp_ret']=df3['xrp'].pct_change()\n",
    "df3['doge_ret']=df3['doge'].pct_change()\n",
    "df3['eth_ret']=df3['eth'].pct_change()\n",
    "df3['btc_ret']=df3['btc'].pct_change()\n",
    "df3['xmr_ret']=df3['xmr'].pct_change()\n",
    "df3"
   ]
  },
  {
   "cell_type": "code",
   "execution_count": null,
   "id": "95d16fc3-e608-4920-82c4-d99b38870d76",
   "metadata": {},
   "outputs": [],
   "source": [
    "df3.drop(df3['ltc_ret'].head(1).index, inplace=True) \n",
    "df3=df3.drop(columns=['ltc','xrp','doge','eth','btc','xmr'])\n",
    "df3"
   ]
  },
  {
   "cell_type": "code",
   "execution_count": null,
   "id": "5819d446-8b5e-4eff-bafa-a19a5255c527",
   "metadata": {},
   "outputs": [],
   "source": [
    "train_size = int(len(df3) * 0.8)\n",
    "test_size = len(df3) - train_size\n",
    "X_train,X_test = df3.drop(columns='tomorrow change').iloc[0:train_size+1,0:], df3.drop(columns='tomorrow change').iloc[train_size+1:,0:]\n",
    "y_train,y_test=df3.iloc[0:train_size+1,6], df3.iloc[train_size+1:,6]\n",
    "scaler=StandardScaler()\n",
    "normalize_X_train = pd.DataFrame(scaler.fit_transform(X_train), columns=X_train.columns)\n",
    "normalize_X_test=pd.DataFrame(scaler.fit_transform(X_test),columns= X_test.columns)\n",
    "\n",
    "#X_train,X_test = df3.iloc[0:train_size, 12:20], df3.iloc[train_size:len(df3), 12:20]\n",
    "#y_train,y_test=df3.iloc[0:train_size, 11], df3.iloc[train_size:len(df3), 11]\n",
    "#normalize_X_train = pd.DataFrame(scaler.fit_transform(X_train), columns=X_train.columns)\n",
    "\n",
    "model2=LinearRegression().fit(normalize_X_train, y_train)\n",
    "y_pred=model2.predict(normalize_X_test)\n",
    "print(\"Coefficient of determination: %.2f\" % r2_score(y_test, y_pred)) #not accurate"
   ]
  },
  {
   "cell_type": "code",
   "execution_count": null,
   "id": "6a0a8582-49d1-4f5a-aa64-ca01d7545bef",
   "metadata": {},
   "outputs": [],
   "source": [
    "df3.columns"
   ]
  },
  {
   "cell_type": "code",
   "execution_count": null,
   "id": "2a073a8b-6056-4194-8cd6-e9f11267acbd",
   "metadata": {},
   "outputs": [],
   "source": [
    "#ols\n",
    "df4=df3.copy()#0.071\n",
    "df4.columns = [c.replace(' ', '_') for c in df4.columns]\n",
    "df4=df4.rename(columns = {'10Y_Treasury_ret':'Treasury10y_ret'})\n",
    "reg_mul2 = smf.ols('tomorrow_change ~  month+day+weekday+day_of_week+price_change+volume_change+SPY_ret+VIX+Treasury10y_ret+Gold_ret+Oil_ret+EUR_USD_ret+ltc_ret+xrp_ret+doge_ret+eth_ret+btc_ret+xmr_ret+marketcap_ret', data = df4)\n",
    "res_mul2 = reg_mul2.fit()\n",
    "print(res_mul2.summary()) #accuracy increases"
   ]
  },
  {
   "cell_type": "code",
   "execution_count": null,
   "id": "4ff71121-3cc9-4a2f-9356-b9f99f4cf46d",
   "metadata": {},
   "outputs": [],
   "source": [
    "#change label to close\n",
    "#reg_mul3 = smf.ols('close ~  SPY+VIX+Treasury10y+Gold+Oil+EUR_USD+ltc+xrp', data = df4)\n",
    "#res_mul3 = reg_mul3.fit()\n",
    "#print(res_mul3.summary())"
   ]
  },
  {
   "cell_type": "code",
   "execution_count": null,
   "id": "7993076e-8b94-42c2-bfc4-1bfad1938f10",
   "metadata": {},
   "outputs": [],
   "source": []
  },
  {
   "cell_type": "code",
   "execution_count": null,
   "id": "da47ef37-fe1f-461a-9651-65133ba64cf8",
   "metadata": {},
   "outputs": [],
   "source": [
    "#X=df3[['SPY', 'VIX', '10Y Treasury', 'Gold', 'Oil', 'EUR_USD','ltc','xrp']]\n",
    "#y=df3[['tomorrow change']]\n",
    "#tss = TimeSeriesSplit(n_splits = 2)\n",
    "#for train_index, test_index in tss.split(X):\n",
    "#    X_train, X_test = X.iloc[train_index, :], X.iloc[test_index,:]\n",
    "#    y_train, y_test = y.iloc[train_index], y.iloc[test_index]\n",
    "\n",
    "#normalize_X_train = pd.DataFrame(scaler.fit_transform(X_train), columns=X_train.columns)\n",
    "#model8=LinearRegression().fit(normalize_X_train, y_train)\n",
    "#normalize_X_test=pd.DataFrame(scaler.fit_transform(X_test),columns= X_test.columns)\n",
    "#y_pred=model8.predict(normalize_X_test)\n",
    "#print(\"Coefficient of determination: %.2f\" % r2_score(y_test, y_pred))"
   ]
  },
  {
   "cell_type": "code",
   "execution_count": null,
   "id": "a1994e7b-5dc4-4343-ac21-6d0854ba63b4",
   "metadata": {},
   "outputs": [],
   "source": [
    "df3.columns"
   ]
  },
  {
   "cell_type": "markdown",
   "id": "2c1423db-64a7-4768-8b4b-f5488aa789d5",
   "metadata": {},
   "source": [
    "## logistic regression X is index return, y is binary response of tmr return"
   ]
  },
  {
   "cell_type": "code",
   "execution_count": null,
   "id": "fb425665-6565-49aa-831f-e4de82787557",
   "metadata": {},
   "outputs": [],
   "source": [
    "from sklearn.linear_model import LogisticRegression"
   ]
  },
  {
   "cell_type": "code",
   "execution_count": null,
   "id": "ffcedf22-1a5b-46f3-8048-daf7626c191d",
   "metadata": {},
   "outputs": [],
   "source": [
    "df3.loc[df3['tomorrow change'] < 0, 'target'] = 0\n",
    "df3.loc[df3['tomorrow change'] > 0, 'target'] = 1\n",
    "df3\n"
   ]
  },
  {
   "cell_type": "code",
   "execution_count": null,
   "id": "6e492b9b-af76-4cec-9a84-7d81459b4f68",
   "metadata": {},
   "outputs": [],
   "source": [
    "df3.columns"
   ]
  },
  {
   "cell_type": "markdown",
   "id": "f6465bd1-cd21-4924-9326-2ca40eddc1e0",
   "metadata": {},
   "source": [
    "## use decision tree on data"
   ]
  },
  {
   "cell_type": "code",
   "execution_count": null,
   "id": "5598a3cb-e8e6-409a-b364-8866b740085e",
   "metadata": {},
   "outputs": [],
   "source": [
    "#make tomorrow change a binary response#0.49\n",
    "#df3['target']=np.sign(df3['tomorrow change'])\n",
    "#df3=df3.drop(columns=['year'])\n",
    "#X3=df5.iloc[:,12:20]\n",
    "#tree_clf = DecisionTreeClassifier(max_depth=2, random_state=42)\n",
    "from sklearn.metrics import accuracy_score\n",
    "\n",
    "X_train,X_test = df3.drop(columns=['tomorrow change','target']).iloc[0:train_size+1,0:], df3.drop(columns=['tomorrow change','target']).iloc[train_size+1:,0:]\n",
    "y_train,y_test=df3.iloc[0:train_size+1,20], df3.iloc[train_size+1:,20]\n",
    "\n",
    "#model3=tree_clf.fit(X_train3, y_train3)\n",
    "\n",
    "model3=LogisticRegression(random_state=42).fit(X_train, y_train)\n",
    "y_pred=model3.predict(X_test)\n",
    "#print(\"Coefficient of determination: %.2f\" % r2_score(y_test, y_pred)) \n",
    "#confusion_matrix(y_test, y_pred)\n",
    "print(confusion_matrix(y_test, y_pred))\n",
    "accuracy_score(y_test, y_pred)"
   ]
  },
  {
   "cell_type": "code",
   "execution_count": null,
   "id": "7b49f6e8-8d74-450e-810c-da977405696c",
   "metadata": {},
   "outputs": [],
   "source": [
    "import statsmodels.formula.api as smf\n",
    "df7=df3.copy()\n",
    "df7.columns = [c.replace(' ', '_') for c in df7.columns]\n",
    "df7=df7.rename(columns = {'10Y_Treasury_ret':'Treasury10y_ret'})\n",
    "formula = 'target ~ month+day+weekday+day_of_week+price_change+volume_change+SPY_ret+VIX+Treasury10y_ret+Gold_ret+Oil_ret+EUR_USD_ret+ltc_ret+xrp_ret+doge_ret+eth_ret+btc_ret+xmr_ret+marketcap_ret'\n",
    "model = smf.glm(formula = formula, data=df7, family=sm.families.Binomial())\n",
    "result = model.fit()\n",
    "print(result.summary())"
   ]
  },
  {
   "cell_type": "code",
   "execution_count": null,
   "id": "86ef307a-6710-4b50-8dd6-feb23a8af041",
   "metadata": {},
   "outputs": [],
   "source": [
    "##glm\n",
    "df6=df3.copy()\n",
    "df6.columns = [c.replace(' ', '_') for c in df6.columns]\n",
    "df6=df6.rename(columns = {'10Y_Treasury_ret':'Treasury10y_ret'})\n",
    "\n",
    "model8 = smf.glm(formula='target ~ SPY_ret+VIX+Treasury10y_ret+Gold_ret+Oil_ret+EUR_USD_ret+ltc_ret+xrp_ret', data = df6,family=sm.families.Binomial())\n",
    "results = model8.fit()\n",
    "\n",
    "print(results.summary())"
   ]
  },
  {
   "cell_type": "markdown",
   "id": "a78364c6-95ac-442c-9d37-40f4c3a53a77",
   "metadata": {},
   "source": [
    "## change y to 4 categories: (decision tree)"
   ]
  },
  {
   "cell_type": "code",
   "execution_count": null,
   "id": "8bfd67c4-2f8f-4838-b606-093251d78f27",
   "metadata": {},
   "outputs": [],
   "source": [
    "print(df['tomorrow change'].quantile([0.25,0.50,0.75]))\n",
    "Q3 = df['tomorrow change'].quantile(0.75)\n",
    "Q1 = df['tomorrow change'].quantile(0.25)\n",
    "Q2 = df['tomorrow change'].quantile(0.50)"
   ]
  },
  {
   "cell_type": "code",
   "execution_count": null,
   "id": "0ed11be5-1354-4ad8-8bac-65ee18487b81",
   "metadata": {},
   "outputs": [],
   "source": [
    "#divide into 4 categories\n",
    "df3.loc[df3['tomorrow change'] < Q1, 'target2'] = 0\n",
    "df3.loc[(df3['tomorrow change'] >= Q1)&(df3['tomorrow change'] < Q2), 'target2'] = 1\n",
    "df3.loc[(df3['tomorrow change'] >= Q2)&(df3['tomorrow change'] < Q3), 'target2'] = 2\n",
    "df3.loc[df3['tomorrow change'] >= Q3, 'target2'] = 3\n",
    "df3"
   ]
  },
  {
   "cell_type": "code",
   "execution_count": null,
   "id": "afd86522-efe9-45a6-a529-d33fb07af347",
   "metadata": {},
   "outputs": [],
   "source": [
    "df3.columns"
   ]
  },
  {
   "cell_type": "code",
   "execution_count": null,
   "id": "81138005-96ca-4a51-a173-460f1066b595",
   "metadata": {},
   "outputs": [],
   "source": [
    "from sklearn.metrics import classification_report"
   ]
  },
  {
   "cell_type": "code",
   "execution_count": null,
   "id": "62366297-aadc-40e9-a034-34f7dfe18606",
   "metadata": {},
   "outputs": [],
   "source": [
    "X_train,X_test = df3.drop(columns=['tomorrow change','target','target2']).iloc[0:train_size+1,0:], df3.drop(columns=['tomorrow change','target','target2']).iloc[train_size+1:,0:]\n",
    "y_train,y_test=df3.iloc[0:train_size+1,21], df3.iloc[train_size+1:,21]\n",
    "\n",
    "tree_clf = DecisionTreeClassifier(max_depth=100, random_state=42)\n",
    "\n",
    "model4=tree_clf.fit(X_train, y_train)\n",
    "\n",
    "y_pred=model4.predict(X_test)\n",
    "print(confusion_matrix(y_test, y_pred))\n",
    "print(classification_report(y_test, y_pred))\n",
    "accuracy_score(y_test, y_pred)"
   ]
  },
  {
   "cell_type": "markdown",
   "id": "1dfababe-8910-4b98-9cf2-938321b3181a",
   "metadata": {},
   "source": [
    "## LASSO to predict tmr_ret"
   ]
  },
  {
   "cell_type": "code",
   "execution_count": null,
   "id": "6e76a40b-d329-47bd-b611-c59e7cc9829b",
   "metadata": {},
   "outputs": [],
   "source": [
    "#lasso\n",
    "from sklearn.linear_model import Lasso\n",
    "from sklearn.metrics import roc_auc_score\n",
    "from sklearn.kernel_ridge import KernelRidge\n",
    "import math\n",
    "from sklearn.metrics import mean_squared_error"
   ]
  },
  {
   "cell_type": "code",
   "execution_count": null,
   "id": "753b2daf-2f80-45b3-9363-9aeb92029c4a",
   "metadata": {},
   "outputs": [],
   "source": [
    "df3=df3.drop(columns=['target','target2'])\n",
    "df3.columns"
   ]
  },
  {
   "cell_type": "code",
   "execution_count": null,
   "id": "9acaad67-e478-40e6-a894-f7e0bc0cfc8b",
   "metadata": {},
   "outputs": [],
   "source": [
    "model5 = Lasso(alpha=0.001)\n",
    "\n",
    "X_train,X_test = df3.drop(columns='tomorrow change').iloc[0:train_size+1,0:], df3.drop(columns='tomorrow change').iloc[train_size+1:,0:]\n",
    "y_train,y_test=df3.iloc[0:train_size+1,6], df3.iloc[train_size+1:,6]\n",
    "scaler=StandardScaler()\n",
    "#normalize_X_train = pd.DataFrame(scaler.fit_transform(X_train), columns=X_train.columns)\n",
    "#normalize_X_test=pd.DataFrame(scaler.fit_transform(X_test),columns= X_test.columns)\n",
    "\n",
    "model5.fit(normalize_X_train, y_train)\n",
    "y_pred=model5.predict(normalize_X_test)\n",
    "#print(model5.score(normalize_X_test, y_test), model5.score(normalize_X_train, y_train))\n",
    "\n",
    "print(np.sqrt(mean_squared_error(y_test,y_pred)))\n",
    "print(r2_score(y_test, y_pred))\n",
    "#poor performance\n",
    "#0.037\n",
    "#0.064\n"
   ]
  },
  {
   "cell_type": "code",
   "execution_count": null,
   "id": "bd1d8266-71e2-44bf-bf56-b958e0bdb150",
   "metadata": {},
   "outputs": [],
   "source": [
    "from sklearn.preprocessing import PolynomialFeatures\n",
    "from sklearn.linear_model import Ridge"
   ]
  },
  {
   "cell_type": "code",
   "execution_count": null,
   "id": "e7910146-0240-4d3b-b07a-145c27cd63f6",
   "metadata": {},
   "outputs": [],
   "source": [
    "X_poly = PolynomialFeatures(degree=5).fit_transform(X_train)\n",
    "m_ridge = Ridge(alpha = 0.5, solver='lsqr')\n",
    "m_ridge.fit(X_poly, y_train)\n",
    "score_ridge = m_ridge.score(X_poly, y_train)\n",
    "y_pred_ridge = m_ridge.predict(X_poly)\n",
    "\n",
    "plt.figure(figsize = (28,10))\n",
    "plt.plot( y_train, label='actual price')\n",
    "plt.plot(y_pred_ridge, 'g--', label='ridge model prediction (Accuracy: {})'.format(round(score_ridge, 3)))\n",
    "#plt.title('Bitcoin Price over last {} days, actual vs. predicted (from trained linear model w/ ridge regularization)'.format(days))\n",
    "plt.xlabel('TimeStamp')\n",
    "plt.ylabel('Bitcoin Price (USD)')\n",
    "plt.legend(loc='upper right')\n",
    "score_ridge"
   ]
  },
  {
   "cell_type": "code",
   "execution_count": null,
   "id": "3f03f97f-c1e4-4c15-8ab2-5c7cf496b2f0",
   "metadata": {},
   "outputs": [],
   "source": [
    "model6 = KernelRidge(kernel='polynomial',alpha=1)\n",
    "model6.fit(normalize_X_train, y_train)\n",
    "#print(model6.score(normalize_X_train, y_train))\n",
    "y_pred = model6.predict(normalize_X_test)\n",
    "print(np.sqrt(mean_squared_error(y_test,y_pred)))\n",
    "print(r2_score(y_test, y_pred))\n",
    "\n",
    "fig, ax = plt.subplots(figsize = [30,10])\n",
    "ax.plot(y_pred,color='red')\n",
    "ax.plot(y_train,color='green')\n",
    "ax.plot(model6.predict(normalize_X_test))\n",
    "ax.plot(y_test)\n",
    "plt.show()"
   ]
  },
  {
   "cell_type": "markdown",
   "id": "14f53d39-6162-4318-8fed-194a268bb2e6",
   "metadata": {},
   "source": [
    "## SVM"
   ]
  },
  {
   "cell_type": "code",
   "execution_count": null,
   "id": "0a50e10b-2dad-4c21-8cc6-92cc1f27f20c",
   "metadata": {},
   "outputs": [],
   "source": [
    "from sklearn import svm\n",
    "model7 = svm.SVR(kernel = 'poly')\n",
    "model7.fit(normalize_X_train,y_train)\n",
    "model7.score(normalize_X_train,y_train)\n",
    "y_pred = model7.predict(normalize_X_test)\n",
    "print(np.sqrt(mean_squared_error(y_test,y_pred)))\n",
    "print(r2_score(y_test, y_pred))"
   ]
  },
  {
   "cell_type": "markdown",
   "id": "4d4eb438-490c-4fc2-a22e-651dccc8ad0c",
   "metadata": {},
   "source": [
    "## generalized linear regression"
   ]
  },
  {
   "cell_type": "code",
   "execution_count": null,
   "id": "b4815efd-da07-4250-b980-82c32cdf5472",
   "metadata": {},
   "outputs": [],
   "source": [
    "import statsmodels.formula.api as smf"
   ]
  },
  {
   "cell_type": "code",
   "execution_count": null,
   "id": "0c8a7153-a121-4265-bd86-404556738dfc",
   "metadata": {},
   "outputs": [],
   "source": [
    "df3.columns"
   ]
  },
  {
   "cell_type": "code",
   "execution_count": null,
   "id": "ae58dbc1-e3fa-4818-8fba-4cbdcdde2313",
   "metadata": {},
   "outputs": [],
   "source": [
    "\n",
    "#results.predict(y_"
   ]
  },
  {
   "cell_type": "markdown",
   "id": "d8829d67-530e-4efb-8730-8f3d66117e41",
   "metadata": {},
   "source": [
    "## RNN with LSTM"
   ]
  },
  {
   "cell_type": "code",
   "execution_count": null,
   "id": "bb51ee26-c6da-404d-841a-23e76d67ad4a",
   "metadata": {},
   "outputs": [],
   "source": [
    "y_train,normalize_X_train"
   ]
  },
  {
   "cell_type": "code",
   "execution_count": null,
   "id": "5dcb5d72-24c2-4249-8cbb-1026f3449c49",
   "metadata": {},
   "outputs": [],
   "source": [
    "from statsmodels.tsa.arima.model import ARIMA\n",
    "# fit model\n",
    "model = ARIMA(y_train, exog=X_train, order=(0,1,1))\n",
    "model_fit = model.fit()\n",
    " #summary of fit model\n",
    "print(model_fit.summary())\n",
    "\n",
    "\n",
    "# get predictions\n",
    "predictions = model_fit.predict(start =train_size, end=len(df3)-1,exog=X_test)\n",
    "\n",
    "\n",
    "# setting up for plots\n",
    "act = pd.DataFrame(scaler_output.iloc[train_size:, 0])\n",
    "predictions=pd.DataFrame(predictions)\n",
    "predictions.reset_index(drop=True, inplace=True)\n",
    "predictions.index=test_X.index\n",
    "predictions['Actual'] = act['BTC Price next day']\n",
    "predictions.rename(columns={0:'Pred', 'predicted_mean':'Pred'}, inplace=True)\n"
   ]
  },
  {
   "cell_type": "code",
   "execution_count": null,
   "id": "7dade2ff-ace2-430b-bdb7-f302aba8793b",
   "metadata": {},
   "outputs": [],
   "source": [
    "from sklearn.preprocessing import PolynomialFeatures"
   ]
  },
  {
   "cell_type": "code",
   "execution_count": null,
   "id": "ff48d5ac-eace-400e-b6d9-a8e58149f79a",
   "metadata": {},
   "outputs": [],
   "source": [
    "# grid serach for optimal polynomial degree\n",
    "for j in [2,3,5]:\n",
    "    #make polynomial features\n",
    "    poly = PolynomialFeatures(degree = j)\n",
    "    X_poly = poly.fit_transform(Xtrain.reshape((2411,1))) \n",
    "\n",
    "\n",
    "    poly.fit(X_poly, ytrain) \n",
    "    reg = LinearRegression() \n",
    "    reg.fit(X_poly, ytrain) \n",
    "\n",
    "    ypred=reg.predict(poly.fit_transform(Xtest.reshape((272,1))))\n",
    "    ytest=ytest.reshape((272,1))\n",
    "\n",
    "    #plot the same\n",
    "    plt.plot(ypred,label='predicted with degree'+str(j))\n",
    "    plt.legend()\n",
    "    #plt.show()\n",
    "\n",
    "    print(\"POLYNOMIAL REGRESSION\")\n",
    "\n",
    "    c=0\n",
    "    for i in range(272):\n",
    "        c+=(ypred[i]-ytest[i])**2\n",
    "    c/=272\n",
    "    \n",
    "    print(\"Degree=\",j,\"        RMSE:\",c**0.5)"
   ]
  }
 ],
 "metadata": {
  "kernelspec": {
   "display_name": "Python 3 (ipykernel)",
   "language": "python",
   "name": "python3"
  },
  "language_info": {
   "codemirror_mode": {
    "name": "ipython",
    "version": 3
   },
   "file_extension": ".py",
   "mimetype": "text/x-python",
   "name": "python",
   "nbconvert_exporter": "python",
   "pygments_lexer": "ipython3",
   "version": "3.8.12"
  }
 },
 "nbformat": 4,
 "nbformat_minor": 5
}
